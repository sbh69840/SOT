{
  "nbformat": 4,
  "nbformat_minor": 0,
  "metadata": {
    "colab": {
      "name": "Object_tracking_opencv_video.ipynb",
      "provenance": [],
      "authorship_tag": "ABX9TyONPtAkw+gN4Nt01mdHg89U",
      "include_colab_link": true
    },
    "kernelspec": {
      "name": "python3",
      "display_name": "Python 3"
    }
  },
  "cells": [
    {
      "cell_type": "markdown",
      "metadata": {
        "id": "view-in-github",
        "colab_type": "text"
      },
      "source": [
        "<a href=\"https://colab.research.google.com/github/sbh69840/SOT/blob/main/Object_tracking_opencv_video.ipynb\" target=\"_parent\"><img src=\"https://colab.research.google.com/assets/colab-badge.svg\" alt=\"Open In Colab\"/></a>"
      ]
    },
    {
      "cell_type": "markdown",
      "metadata": {
        "id": "4Zt1N5lUcEDh"
      },
      "source": [
        "# Object tracking using OpenCV \n",
        "A simple object tracker built with OpenCV and JavaScript (for selecting the bounding box) \\\\\n",
        "This tutorial is for any video, just replace the name of the video from the name of the file that you want to run the algorithm on."
      ]
    },
    {
      "cell_type": "code",
      "metadata": {
        "id": "ODvWsvaOYz2Z"
      },
      "source": [
        "# To execute some of the system commands like unzip and cp\n",
        "import os\n",
        "# Image processing library which contains trackers and image manipultation tools\n",
        "import cv2\n",
        "# Disply widgets to show output on the cell \n",
        "from IPython.display import HTML, Image\n",
        "# Communicate between JS and Python\n",
        "from google.colab.output import eval_js\n",
        "# To display images because cv2.imshow doesn't work as it opens a new X-terminal\n",
        "# which is not possible because a jupyter notebook instance doesn't allow that\n",
        "from google.colab.patches import cv2_imshow\n",
        "# To convert images to GIF\n",
        "from PIL import Image\n",
        "# high-level mathematical functions library\n",
        "import numpy as np"
      ],
      "execution_count": null,
      "outputs": []
    },
    {
      "cell_type": "code",
      "metadata": {
        "id": "OLsyYBXmEm1p",
        "outputId": "d6f19736-7c35-4041-c06a-318be9e12cad",
        "colab": {
          "base_uri": "https://localhost:8080/"
        }
      },
      "source": [
        "# Clone the repository containing the dataset collected for the purpose of object tracking\n",
        "!git clone https://github.com/sbh69840/SOT-dataset.git"
      ],
      "execution_count": null,
      "outputs": [
        {
          "output_type": "stream",
          "text": [
            "Cloning into 'SOT-dataset'...\n",
            "remote: Enumerating objects: 32, done.\u001b[K\n",
            "remote: Counting objects: 100% (32/32), done.\u001b[K\n",
            "remote: Compressing objects: 100% (29/29), done.\u001b[K\n",
            "remote: Total 32 (delta 8), reused 3 (delta 0), pack-reused 0\u001b[K\n",
            "Unpacking objects: 100% (32/32), done.\n"
          ],
          "name": "stdout"
        }
      ]
    },
    {
      "cell_type": "code",
      "metadata": {
        "id": "8vSCD7LzdtRB"
      },
      "source": [
        "# Resource : https://www.learnopencv.com/object-tracking-using-opencv-cpp-python/\n",
        "\n",
        "# List of available trackers in openCV\n",
        "tracker_types = ['BOOSTING', 'MIL','KCF', 'TLD', 'MEDIANFLOW', 'GOTURN', 'MOSSE', 'CSRT']\n",
        "# Function used to select tracker\n",
        "def select_tracker(tracker_id):\n",
        "  # Make tracker and tracker_type global to access it outside the function\n",
        "  global tracker\n",
        "  global tracker_type\n",
        "  tracker_type = tracker_types[tracker_id]\n",
        "  # Set up tracker.\n",
        "  if tracker_type == 'BOOSTING':\n",
        "      tracker = cv2.TrackerBoosting_create()\n",
        "  if tracker_type == 'MIL':\n",
        "      tracker = cv2.TrackerMIL_create()\n",
        "  if tracker_type == 'KCF':\n",
        "      tracker = cv2.TrackerKCF_create()\n",
        "  if tracker_type == 'TLD':\n",
        "      tracker = cv2.TrackerTLD_create()\n",
        "  if tracker_type == 'MEDIANFLOW':\n",
        "      tracker = cv2.TrackerMedianFlow_create()\n",
        "  if tracker_type == 'GOTURN':\n",
        "      tracker = cv2.TrackerGOTURN_create()\n",
        "  if tracker_type == 'MOSSE':\n",
        "      tracker = cv2.TrackerMOSSE_create()\n",
        "  if tracker_type == \"CSRT\":\n",
        "      tracker = cv2.TrackerCSRT_create()"
      ],
      "execution_count": null,
      "outputs": []
    },
    {
      "cell_type": "code",
      "metadata": {
        "id": "0almp4BvYdeC",
        "outputId": "cfb0e296-7f14-46e8-a165-e32eddb10d7d",
        "colab": {
          "base_uri": "https://localhost:8080/"
        }
      },
      "source": [
        "# Call the function to select the tracker\n",
        "select_tracker(0)\n",
        "# Print to check the name of the tracker\n",
        "print(tracker)"
      ],
      "execution_count": null,
      "outputs": [
        {
          "output_type": "stream",
          "text": [
            "<TrackerBoosting 0x7f6698d5c8b0>\n"
          ],
          "name": "stdout"
        }
      ]
    },
    {
      "cell_type": "markdown",
      "metadata": {
        "id": "UrefBM_Gde0J"
      },
      "source": [
        "# Open the hidden cell to upload a file from your device"
      ]
    },
    {
      "cell_type": "code",
      "metadata": {
        "id": "npp2y3Q4duLy",
        "cellView": "form"
      },
      "source": [
        "#@title Open to upload file\n",
        "\n",
        "from google.colab import files\n",
        "\n",
        "uploaded = files.upload()\n",
        "\n",
        "for fn in uploaded.keys():\n",
        "  print('User uploaded file \"{name}\" with length {length} bytes'.format(\n",
        "      name=fn, length=len(uploaded[fn])))"
      ],
      "execution_count": null,
      "outputs": []
    },
    {
      "cell_type": "code",
      "metadata": {
        "id": "9XQaW4W2fcjq",
        "outputId": "e3a5314b-e779-4cd7-8e0e-271bede33204",
        "colab": {
          "base_uri": "https://localhost:8080/"
        }
      },
      "source": [
        "# Change the name of the file to the one that you have uploaded if needed\n",
        "video = cv2.VideoCapture(\"SOT-dataset/videoplayback (2).mp4\")\n",
        "# get the width and height of the frame\n",
        "frame_width = int(video.get(3))\n",
        "frame_height = int(video.get(4))\n",
        "# Output writer used to make a MP4 video\n",
        "out = cv2.VideoWriter('output.mp4',cv2.VideoWriter_fourcc(*'MP4V'), 10, (frame_width,frame_height))\n",
        "# get the first frame of the video\n",
        "ok, frame = video.read()\n",
        "# write the first frame, we could write the frame after adding the bounding box \n",
        "# because this one doesn't contain one but since the rest of the frames do have it\n",
        "# I was too lazy to add the frame after drawing bounding box\n",
        "out.write(frame)\n",
        "# Save the first frame in this location to access it inside of HTML\n",
        "cv2.imwrite('/usr/local/share/jupyter/nbextensions/first_frame.png',frame)"
      ],
      "execution_count": null,
      "outputs": [
        {
          "output_type": "execute_result",
          "data": {
            "text/plain": [
              "True"
            ]
          },
          "metadata": {
            "tags": []
          },
          "execution_count": 5
        }
      ]
    },
    {
      "cell_type": "code",
      "metadata": {
        "id": "fNN_fQnSCxfY"
      },
      "source": [
        "html_canvas = \"\"\"\n",
        "<!--\n",
        "Create the canvas to display the image to mark the bounding box. \n",
        "-->\n",
        "<canvas id=\"canvas\"></canvas>\n",
        "<!--\n",
        "Button used to send the bounding box coordinates  \n",
        "-->\n",
        "<button id=\"capture\">Capture</button>\n",
        "<script>\n",
        "<!--\n",
        "//Canvas to draw the bounding box on \n",
        "-->\n",
        "var canvas = document.getElementById('canvas');\n",
        "<!--\n",
        "//Width of the image \n",
        "-->\n",
        "var width = %d;\n",
        "<!--\n",
        "//Height of the image \n",
        "-->\n",
        "var height = %d;\n",
        "<!--\n",
        "//Set canvas width to the width of the image \n",
        "-->\n",
        "canvas.style.width = width+'px';\n",
        "<!--\n",
        "//Set canvas height to the height of the image \n",
        "-->\n",
        "canvas.style.height = height+'px';\n",
        "<!--\n",
        "//Get context of the canvas used to draw on the images\n",
        "-->\n",
        "var ctx = canvas.getContext('2d');\n",
        "<!--\n",
        "//Set context width and height according to image width and height\n",
        "-->\n",
        "ctx.canvas.width = width;\n",
        "ctx.canvas.height = height;\n",
        "<!--\n",
        "//Load the image onto a image class to draw it on a canvas\n",
        "-->\n",
        "var base_image = new Image();\n",
        "base_image.src = '%s';\n",
        "base_image.width = width+'px';\n",
        "base_image.height = height+'px';\n",
        "base_image.onload = function(){\n",
        "  ctx.drawImage(base_image,0,0,width,height);\n",
        "}\n",
        "<!--\n",
        "//Call the function that keeps track of the mouse events and draws bounding boxes\n",
        "-->\n",
        "initDraw(canvas,ctx);\n",
        "<!--\n",
        "//Global variables used to send the coordinates that will be set in inside the function \n",
        "//initDraw(canvas,ctx)\n",
        "-->\n",
        "var x,y,width,height;\n",
        "function initDraw(canvas,ctx) {\n",
        "    <!--\n",
        "    //function used to set the mouse position according to current position\n",
        "    -->\n",
        "    function setMousePosition(e) {\n",
        "        var ev = e || window.event; //Moz || IE\n",
        "        if (ev.pageX) { //Moz\n",
        "            mouse.x = ev.pageX + window.pageXOffset;\n",
        "            mouse.y = ev.pageY + window.pageYOffset;\n",
        "        } else if (ev.clientX) { //IE\n",
        "            mouse.x = ev.clientX + document.body.scrollLeft;\n",
        "            mouse.y = ev.clientY + document.body.scrollTop;\n",
        "        }\n",
        "    };\n",
        "    <!--\n",
        "    //Dictionary used to store current x, current y position when the mouse moves\n",
        "    //and also startX and startY to store the left corner point on first click\n",
        "    -->\n",
        "    var mouse = {\n",
        "        x: 0,\n",
        "        y: 0,\n",
        "        startX: 0,\n",
        "        startY: 0\n",
        "    };\n",
        "    <!--\n",
        "    //local left, top, width and height used to keep track of bounding box inside\n",
        "    //of this function\n",
        "    -->\n",
        "    var left=null,top=null,width=0,height=0;\n",
        "    <!--\n",
        "    //Function called when the mouse pointer is moved\n",
        "    -->\n",
        "    canvas.onmousemove = function (e) {\n",
        "        <!--\n",
        "        //set current position to the position of the mouse pointer on screen\n",
        "        -->\n",
        "        setMousePosition(e);\n",
        "        <!--\n",
        "        //check if left is null, if it is then there is no rectangle on the screen\n",
        "        -->\n",
        "        if (left !== null) {\n",
        "            <!--\n",
        "            //This will clear the entire canvas whenever there is already a rectangle \n",
        "            //on the screen because we only need one rectangle on the screen at \n",
        "            //a given time\n",
        "            -->\n",
        "            ctx.clearRect(0,0,canvas.width,canvas.height);\n",
        "            <!--\n",
        "            //After clearing the whole canvas the image will no longer be there\n",
        "            //so draw it again\n",
        "            -->\n",
        "            ctx.drawImage(base_image,0,0,canvas.width,canvas.height);\n",
        "            <!--\n",
        "            //Set width, height, top, left values with respect to the startX\n",
        "            //and startY positions\n",
        "            -->\n",
        "            width = Math.abs(mouse.x - mouse.startX);\n",
        "            height = Math.abs(mouse.y - mouse.startY);\n",
        "            left = (mouse.x - mouse.startX < 0) ? mouse.x : mouse.startX;\n",
        "            top = (mouse.y - mouse.startY < 0) ? mouse.y : mouse.startY;\n",
        "            <!--\n",
        "            //Init function before drawing on canvas\n",
        "            -->\n",
        "            ctx.beginPath();\n",
        "            <!--\n",
        "            //Set the width of the line, strokecolor as per the user input\n",
        "            -->\n",
        "            ctx.lineWidth = \"%d\";\n",
        "            ctx.strokeStyle = \"%s\";\n",
        "            ctx.strokeRect(left, top, width, height);\n",
        "            <!--\n",
        "            //console.log(left,top,width,height);\n",
        "            -->\n",
        "            ctx.stroke();\n",
        "        }\n",
        "    }\n",
        "    <!--\n",
        "    // Invoke onclick function when clicked on canvas \n",
        "    -->\n",
        "    canvas.onclick = function (e) {\n",
        "      <!--\n",
        "      // if left is null that means the rectangle is not there and you create\n",
        "      // a new one by assigning startX and startY else assign coordinate values\n",
        "      // of the rectangle according to current position of the mouse pointer\n",
        "      -->\n",
        "        if (left !== null) {\n",
        "            window.x = left;\n",
        "            window.y = top;\n",
        "            window.width = width;\n",
        "            window.height = height;\n",
        "            left = null;\n",
        "            canvas.style.cursor = \"default\";\n",
        "            console.log(\"finsihed.\");\n",
        "        } else {\n",
        "            console.log(\"begun.\");\n",
        "            mouse.startX = mouse.x;\n",
        "            mouse.startY = mouse.y;\n",
        "            left = mouse.x;\n",
        "            top = mouse.y;\n",
        "            canvas.style.cursor = \"crosshair\";\n",
        "        }\n",
        "    }\n",
        "    \n",
        "    \n",
        "}\n",
        "<!--\n",
        "Get the button from the document and send the coordinates to python using\n",
        "promise when the button is clicked\n",
        "-->\n",
        "var button = document.getElementById('capture');\n",
        "var data = new Promise(resolve=>{\n",
        "  button.onclick = ()=>{\n",
        "    resolve([x,y,width,height]);\n",
        "  }\n",
        "});\n",
        "</script>\n",
        "\"\"\"\n",
        "\n",
        "# Fuction used to create the html page in the cell and receive whatever data will\n",
        "# be sent from the variable data in the javascript code above\n",
        "# Return: tuple of (x, y, width, height) bounding box\n",
        "def selectROI(filename='1.jpg', w=400, h=200, line_width=3,color=\"yellow\"):\n",
        "  display(HTML(html_canvas%(w,h,'/nbextensions/{}'.format(filename),line_width,color)))\n",
        "  data = eval_js(\"data\")\n",
        "  return tuple(data)"
      ],
      "execution_count": null,
      "outputs": []
    },
    {
      "cell_type": "code",
      "metadata": {
        "id": "h7YPRs1_EkXq",
        "outputId": "c2d04c95-ef2b-40d0-ff6c-9ad9145f6640",
        "colab": {
          "resources": {
            "http://localhost:8080/nbextensions/first_frame.png": {
              "data": "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",
              "ok": true,
              "headers": [
                [
                  "content-type",
                  "image/png"
                ]
              ],
              "status": 200,
              "status_text": ""
            }
          },
          "base_uri": "https://localhost:8080/",
          "height": 383
        }
      },
      "source": [
        "# Get the bounding box\n",
        "bbox = selectROI(\"first_frame.png\",frame.shape[1],frame.shape[0],3,\"yellow\")"
      ],
      "execution_count": null,
      "outputs": [
        {
          "output_type": "display_data",
          "data": {
            "text/html": [
              "\n",
              "<canvas id=\"canvas\"></canvas>\n",
              "<button id=\"capture\">Capture</button>\n",
              "<script>\n",
              "var canvas = document.getElementById('canvas');\n",
              "var width = 640;\n",
              "var height = 360;\n",
              "canvas.style.width = width+'px';\n",
              "canvas.style.height = height+'px';\n",
              "var ctx = canvas.getContext('2d');\n",
              "ctx.canvas.width = width;\n",
              "ctx.canvas.height = height;\n",
              "var base_image = new Image();\n",
              "base_image.src = '/nbextensions/first_frame.png';\n",
              "base_image.width = width+'px';\n",
              "base_image.height = height+'px';\n",
              "base_image.onload = function(){\n",
              "  ctx.drawImage(base_image,0,0,width,height);\n",
              "}\n",
              "initDraw(canvas,ctx);\n",
              "var x,y,width,height;\n",
              "function initDraw(canvas,ctx) {\n",
              "    function setMousePosition(e) {\n",
              "        var ev = e || window.event; //Moz || IE\n",
              "        if (ev.pageX) { //Moz\n",
              "            mouse.x = ev.pageX + window.pageXOffset;\n",
              "            mouse.y = ev.pageY + window.pageYOffset;\n",
              "        } else if (ev.clientX) { //IE\n",
              "            mouse.x = ev.clientX + document.body.scrollLeft;\n",
              "            mouse.y = ev.clientY + document.body.scrollTop;\n",
              "        }\n",
              "    };\n",
              "\n",
              "    var mouse = {\n",
              "        x: 0,\n",
              "        y: 0,\n",
              "        startX: 0,\n",
              "        startY: 0\n",
              "    };\n",
              "    var left=null,top=null,width=0,height=0;\n",
              "    canvas.onmousemove = function (e) {\n",
              "        setMousePosition(e);\n",
              "        if (left !== null) {\n",
              "            ctx.clearRect(0,0,canvas.width,canvas.height);\n",
              "            ctx.drawImage(base_image,0,0,canvas.width,canvas.height);\n",
              "            width = Math.abs(mouse.x - mouse.startX);\n",
              "            height = Math.abs(mouse.y - mouse.startY);\n",
              "            left = (mouse.x - mouse.startX < 0) ? mouse.x : mouse.startX;\n",
              "            top = (mouse.y - mouse.startY < 0) ? mouse.y : mouse.startY;\n",
              "            ctx.beginPath();\n",
              "            ctx.lineWidth = \"3\";\n",
              "            ctx.strokeStyle = \"yellow\";\n",
              "            ctx.strokeRect(left, top, width, height);\n",
              "            console.log(left,top,width,height);\n",
              "            \n",
              "            ctx.stroke();\n",
              "        }\n",
              "    }\n",
              "\n",
              "    canvas.onclick = function (e) {\n",
              "        if (left !== null) {\n",
              "            window.x = left;\n",
              "            window.y = top;\n",
              "            window.width = width;\n",
              "            window.height = height;\n",
              "            left = null;\n",
              "            canvas.style.cursor = \"default\";\n",
              "            console.log(\"finsihed.\");\n",
              "        } else {\n",
              "            console.log(\"begun.\");\n",
              "            mouse.startX = mouse.x;\n",
              "            mouse.startY = mouse.y;\n",
              "            left = mouse.x;\n",
              "            top = mouse.y;\n",
              "            canvas.style.cursor = \"crosshair\";\n",
              "        }\n",
              "    }\n",
              "    \n",
              "    \n",
              "}\n",
              "var button = document.getElementById('capture');\n",
              "var data = new Promise(resolve=>{\n",
              "  button.onclick = ()=>{\n",
              "    resolve([x,y,width,height]);\n",
              "  }\n",
              "});\n",
              "</script>\n"
            ],
            "text/plain": [
              "<IPython.core.display.HTML object>"
            ]
          },
          "metadata": {
            "tags": []
          }
        }
      ]
    },
    {
      "cell_type": "code",
      "metadata": {
        "id": "eYUp7e2xH-Kr",
        "outputId": "1eb99f08-4372-42b0-c77a-2b859cf13b4b",
        "colab": {
          "base_uri": "https://localhost:8080/"
        }
      },
      "source": [
        "bbox"
      ],
      "execution_count": null,
      "outputs": [
        {
          "output_type": "execute_result",
          "data": {
            "text/plain": [
              "(9, 98, 220, 173)"
            ]
          },
          "metadata": {
            "tags": []
          },
          "execution_count": 8
        }
      ]
    },
    {
      "cell_type": "code",
      "metadata": {
        "id": "B4q7SFmtIDvL"
      },
      "source": [
        "# Initialize the tracker with the first frame\n",
        "ok = tracker.init(frame,bbox)"
      ],
      "execution_count": null,
      "outputs": []
    },
    {
      "cell_type": "code",
      "metadata": {
        "id": "N2fK1NgOPRP0",
        "outputId": "7af5c922-5f4d-421b-c4d7-8061a2113f20",
        "colab": {
          "base_uri": "https://localhost:8080/"
        }
      },
      "source": [
        "print(ok)"
      ],
      "execution_count": null,
      "outputs": [
        {
          "output_type": "stream",
          "text": [
            "True\n"
          ],
          "name": "stdout"
        }
      ]
    },
    {
      "cell_type": "code",
      "metadata": {
        "id": "ISwBWlAE62av"
      },
      "source": [
        "gif = [frame]"
      ],
      "execution_count": null,
      "outputs": []
    },
    {
      "cell_type": "code",
      "metadata": {
        "id": "x2vq96LOKBFN"
      },
      "source": [
        "while True:\n",
        "  # clear_output()\n",
        "  ok, frame1 = video.read()\n",
        "  if not ok:\n",
        "    break\n",
        "  \n",
        "  # Start timer\n",
        "  timer = cv2.getTickCount()\n",
        "  # Update the tracker\n",
        "  ok, bbox = tracker.update(frame1)\n",
        "\n",
        "  # Calculate Frames Per Second (FPS) \n",
        "  fps = cv2.getTickFrequency() / (cv2.getTickCount() - timer)\n",
        "\n",
        "  if ok:\n",
        "    # Tracking success\n",
        "    p1 = (int(bbox[0]), int(bbox[1]))\n",
        "    p2 = (int(bbox[0] + bbox[2]), int(bbox[1] + bbox[3]))\n",
        "    cv2.rectangle(frame1, p1, p2, (255,255,0), 3, 1)\n",
        "  else:\n",
        "    # Tracking failure\n",
        "    cv2.putText(frame1, \"Tracking failure detected\", (100,80), cv2.FONT_HERSHEY_SIMPLEX, 0.75,(0,0,255),2)\n",
        "  \n",
        "  # Display tracker type on frame\n",
        "  cv2.putText(frame1, tracker_type + \" Tracker\", (100,20), cv2.FONT_HERSHEY_SIMPLEX, 0.75, (255,0,0),2)\n",
        "  \n",
        "  # Display FPS on frame\n",
        "  cv2.putText(frame1, \"FPS : \" + str(int(fps)), (100,50), cv2.FONT_HERSHEY_SIMPLEX, 0.75, (255,0,0), 2)\n",
        "  # Write the frame with bounding box to the output video writer\n",
        "  out.write(frame1)\n",
        "  gif.append(frame1)\n",
        "  # cv2_imshow(frame)\n",
        "# Close the input video stream \n",
        "video.release()\n",
        "# Close the output video writer\n",
        "out.release()"
      ],
      "execution_count": null,
      "outputs": []
    },
    {
      "cell_type": "code",
      "metadata": {
        "id": "COAKoMcfPhRy"
      },
      "source": [
        "# Resource: https://stackoverflow.com/questions/44650888/resize-an-image-without-distortion-opencv\n",
        "def image_resize(image, width = None, height = None, inter = cv2.INTER_AREA):\n",
        "    # initialize the dimensions of the image to be resized and\n",
        "    # grab the image size\n",
        "    dim = None\n",
        "    (h, w) = image.shape[:2]\n",
        "\n",
        "    # if both the width and height are None, then return the\n",
        "    # original image\n",
        "    if width is None and height is None:\n",
        "        return image\n",
        "\n",
        "    # check to see if the width is None\n",
        "    if width is None:\n",
        "        # calculate the ratio of the height and construct the\n",
        "        # dimensions\n",
        "        r = height / float(h)\n",
        "        dim = (int(w * r), height)\n",
        "\n",
        "    # otherwise, the height is None\n",
        "    else:\n",
        "        # calculate the ratio of the width and construct the\n",
        "        # dimensions\n",
        "        r = width / float(w)\n",
        "        dim = (width, int(h * r))\n",
        "\n",
        "    # resize the image\n",
        "    resized = cv2.resize(image, dim, interpolation = inter)\n",
        "\n",
        "    # return the resized image\n",
        "    return resized"
      ],
      "execution_count": null,
      "outputs": []
    },
    {
      "cell_type": "code",
      "metadata": {
        "id": "knTg1Xzp7Ia8"
      },
      "source": [
        "import random\n",
        "random.seed(10)\n",
        "n = len(gif)\n",
        "ind = set(random.sample(list(range(0,n)),12))\n",
        "cur_image_ind = 0\n",
        "cur_ind = 0\n",
        "imgs = [[] for _ in range(3)]\n",
        "for image in gif:\n",
        "  if cur_image_ind in ind:\n",
        "    imgs[cur_ind%3].append(image_resize(image,200))\n",
        "    cur_ind+=1\n",
        "  cur_image_ind+=1"
      ],
      "execution_count": null,
      "outputs": []
    },
    {
      "cell_type": "code",
      "metadata": {
        "id": "RpDNnTUG7XCm"
      },
      "source": [
        "for i in range(3):\n",
        "  imgs[i] = np.hstack(imgs[i])\n",
        "v_stack = np.vstack(imgs)\n"
      ],
      "execution_count": null,
      "outputs": []
    },
    {
      "cell_type": "code",
      "metadata": {
        "id": "oyF_3mZm7Zkw"
      },
      "source": [
        "cv2_imshow(v_stack)"
      ],
      "execution_count": null,
      "outputs": []
    }
  ]
}