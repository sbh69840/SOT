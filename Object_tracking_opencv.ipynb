{
  "nbformat": 4,
  "nbformat_minor": 0,
  "metadata": {
    "colab": {
      "name": "Object_tracking_opencv.ipynb",
      "provenance": [],
      "authorship_tag": "ABX9TyMBMt3tTp3Yf/Wv7tr5BVUo",
      "include_colab_link": true
    },
    "kernelspec": {
      "name": "python3",
      "display_name": "Python 3"
    }
  },
  "cells": [
    {
      "cell_type": "markdown",
      "metadata": {
        "id": "view-in-github",
        "colab_type": "text"
      },
      "source": [
        "<a href=\"https://colab.research.google.com/github/sbh69840/SOT/blob/main/Object_tracking_opencv.ipynb\" target=\"_parent\"><img src=\"https://colab.research.google.com/assets/colab-badge.svg\" alt=\"Open In Colab\"/></a>"
      ]
    },
    {
      "cell_type": "markdown",
      "metadata": {
        "id": "TBxmBvWC35wk"
      },
      "source": [
        "# Object tracking using OpenCV \n",
        "A simple object tracker built with OpenCV and JavaScript (for selecting the bounding box) \\\\\n",
        "This tutorial is for datasets from VOT which consist of images instead of video.\n",
        "\n"
      ]
    },
    {
      "cell_type": "code",
      "metadata": {
        "id": "ODvWsvaOYz2Z"
      },
      "source": [
        "# To execute some of the system commands like unzip and cp\n",
        "import os\n",
        "# Image processing library which contains trackers and image manipultation tools\n",
        "import cv2\n",
        "# Disply widgets to show output on the cell \n",
        "from IPython.display import HTML, Image\n",
        "# Communicate between JS and Python\n",
        "from google.colab.output import eval_js\n",
        "# To display images because cv2.imshow doesn't work as it opens a new X-terminal\n",
        "# which is not possible because a jupyter notebook instance doesn't allow that\n",
        "from google.colab.patches import cv2_imshow\n",
        "# To convert images to GIF\n",
        "from PIL import Image\n",
        "# high-level mathematical functions library\n",
        "import numpy as np"
      ],
      "execution_count": 1,
      "outputs": []
    },
    {
      "cell_type": "code",
      "metadata": {
        "id": "OLsyYBXmEm1p",
        "outputId": "154bc431-4325-4446-d30d-08a1eaa662f5",
        "colab": {
          "base_uri": "https://localhost:8080/"
        }
      },
      "source": [
        "# Clone the repository containing the dataset collected for the purpose of object tracking\n",
        "!git clone https://github.com/sbh69840/SOT-dataset.git"
      ],
      "execution_count": 2,
      "outputs": [
        {
          "output_type": "stream",
          "text": [
            "Cloning into 'SOT-dataset'...\n",
            "remote: Enumerating objects: 32, done.\u001b[K\n",
            "remote: Counting objects: 100% (32/32), done.\u001b[K\n",
            "remote: Compressing objects: 100% (29/29), done.\u001b[K\n",
            "remote: Total 32 (delta 8), reused 3 (delta 0), pack-reused 0\u001b[K\n",
            "Unpacking objects: 100% (32/32), done.\n"
          ],
          "name": "stdout"
        }
      ]
    },
    {
      "cell_type": "code",
      "metadata": {
        "id": "ye1BYGQMgiEx"
      },
      "source": [
        "# Choose from the available zip files containing images of each frame named track{id}\n",
        "track_video = \"track1\""
      ],
      "execution_count": 3,
      "outputs": []
    },
    {
      "cell_type": "code",
      "metadata": {
        "id": "bydKGV_1di1r",
        "outputId": "90a75c86-c337-4643-a029-24f3027314f8",
        "colab": {
          "base_uri": "https://localhost:8080/"
        }
      },
      "source": [
        "# Unzip the files from the zip file\n",
        "os.system(\"unzip SOT-dataset/{}.zip\".format(track_video))"
      ],
      "execution_count": 4,
      "outputs": [
        {
          "output_type": "execute_result",
          "data": {
            "text/plain": [
              "0"
            ]
          },
          "metadata": {
            "tags": []
          },
          "execution_count": 4
        }
      ]
    },
    {
      "cell_type": "code",
      "metadata": {
        "id": "8vSCD7LzdtRB"
      },
      "source": [
        "# Resource : https://www.learnopencv.com/object-tracking-using-opencv-cpp-python/\n",
        "\n",
        "# List of available trackers in openCV\n",
        "tracker_types = ['BOOSTING', 'MIL','KCF', 'TLD', 'MEDIANFLOW', 'GOTURN', 'MOSSE', 'CSRT']\n",
        "# Function used to select tracker\n",
        "def select_tracker(tracker_id):\n",
        "  # Make tracker and tracker_type global to access it outside the function\n",
        "  global tracker\n",
        "  global tracker_type\n",
        "  tracker_type = tracker_types[tracker_id]\n",
        "  # Set up tracker.\n",
        "  if tracker_type == 'BOOSTING':\n",
        "      tracker = cv2.TrackerBoosting_create()\n",
        "  if tracker_type == 'MIL':\n",
        "      tracker = cv2.TrackerMIL_create()\n",
        "  if tracker_type == 'KCF':\n",
        "      tracker = cv2.TrackerKCF_create()\n",
        "  if tracker_type == 'TLD':\n",
        "      tracker = cv2.TrackerTLD_create()\n",
        "  if tracker_type == 'MEDIANFLOW':\n",
        "      tracker = cv2.TrackerMedianFlow_create()\n",
        "  if tracker_type == 'GOTURN':\n",
        "      tracker = cv2.TrackerGOTURN_create()\n",
        "  if tracker_type == 'MOSSE':\n",
        "      tracker = cv2.TrackerMOSSE_create()\n",
        "  if tracker_type == \"CSRT\":\n",
        "      tracker = cv2.TrackerCSRT_create()"
      ],
      "execution_count": 5,
      "outputs": []
    },
    {
      "cell_type": "code",
      "metadata": {
        "id": "0almp4BvYdeC",
        "outputId": "c9d0f467-e352-4be9-bb11-cadcb7b56e3b",
        "colab": {
          "base_uri": "https://localhost:8080/"
        }
      },
      "source": [
        "# Call the function to select the tracker\n",
        "select_tracker(0)\n",
        "# Print to check the name of the tracker\n",
        "print(tracker)"
      ],
      "execution_count": 6,
      "outputs": [
        {
          "output_type": "stream",
          "text": [
            "<TrackerBoosting 0x7fab6bbece30>\n"
          ],
          "name": "stdout"
        }
      ]
    },
    {
      "cell_type": "code",
      "metadata": {
        "id": "9XQaW4W2fcjq",
        "outputId": "c062c01b-fa58-4f55-9c4e-478a3fd4a07d",
        "colab": {
          "base_uri": "https://localhost:8080/"
        }
      },
      "source": [
        "# The first frame of the file\n",
        "frame_name = \"1.jpg\"\n",
        "frame_number = 1\n",
        "# All the files have 12 digits in them so the rest of the spots are filled with \n",
        "# zeros. To see the file structure check the colab files section.\n",
        "frame_name = frame_name.rjust(12,\"0\")\n",
        "# Copy the first frame to the location where we can access the image from inside\n",
        "# of HTML because the root of the localhost is located in the folder \n",
        "# /usr/local/share/jupyter\n",
        "os.system(\"cp {0}/{1} /usr/local/share/jupyter/nbextensions/{1}\".format(track_video,frame_name))"
      ],
      "execution_count": 7,
      "outputs": [
        {
          "output_type": "execute_result",
          "data": {
            "text/plain": [
              "0"
            ]
          },
          "metadata": {
            "tags": []
          },
          "execution_count": 7
        }
      ]
    },
    {
      "cell_type": "code",
      "metadata": {
        "id": "fNN_fQnSCxfY"
      },
      "source": [
        "html_canvas = \"\"\"\n",
        "<!--\n",
        "Create the canvas to display the image to mark the bounding box. \n",
        "-->\n",
        "<canvas id=\"canvas\"></canvas>\n",
        "<!--\n",
        "Button used to send the bounding box coordinates  \n",
        "-->\n",
        "<button id=\"capture\">Capture</button>\n",
        "<script>\n",
        "<!--\n",
        "//Canvas to draw the bounding box on \n",
        "-->\n",
        "var canvas = document.getElementById('canvas');\n",
        "<!--\n",
        "//Width of the image \n",
        "-->\n",
        "var width = %d;\n",
        "<!--\n",
        "//Height of the image \n",
        "-->\n",
        "var height = %d;\n",
        "<!--\n",
        "//Set canvas width to the width of the image \n",
        "-->\n",
        "canvas.style.width = width+'px';\n",
        "<!--\n",
        "//Set canvas height to the height of the image \n",
        "-->\n",
        "canvas.style.height = height+'px';\n",
        "<!--\n",
        "//Get context of the canvas used to draw on the images\n",
        "-->\n",
        "var ctx = canvas.getContext('2d');\n",
        "<!--\n",
        "//Set context width and height according to image width and height\n",
        "-->\n",
        "ctx.canvas.width = width;\n",
        "ctx.canvas.height = height;\n",
        "<!--\n",
        "//Load the image onto a image class to draw it on a canvas\n",
        "-->\n",
        "var base_image = new Image();\n",
        "base_image.src = '%s';\n",
        "base_image.width = width+'px';\n",
        "base_image.height = height+'px';\n",
        "base_image.onload = function(){\n",
        "  ctx.drawImage(base_image,0,0,width,height);\n",
        "}\n",
        "<!--\n",
        "//Call the function that keeps track of the mouse events and draws bounding boxes\n",
        "-->\n",
        "initDraw(canvas,ctx);\n",
        "<!--\n",
        "//Global variables used to send the coordinates that will be set in inside the function \n",
        "//initDraw(canvas,ctx)\n",
        "-->\n",
        "var x,y,width,height;\n",
        "function initDraw(canvas,ctx) {\n",
        "    <!--\n",
        "    //function used to set the mouse position according to current position\n",
        "    -->\n",
        "    function setMousePosition(e) {\n",
        "        var ev = e || window.event; //Moz || IE\n",
        "        if (ev.pageX) { //Moz\n",
        "            mouse.x = ev.pageX + window.pageXOffset;\n",
        "            mouse.y = ev.pageY + window.pageYOffset;\n",
        "        } else if (ev.clientX) { //IE\n",
        "            mouse.x = ev.clientX + document.body.scrollLeft;\n",
        "            mouse.y = ev.clientY + document.body.scrollTop;\n",
        "        }\n",
        "    };\n",
        "    <!--\n",
        "    //Dictionary used to store current x, current y position when the mouse moves\n",
        "    //and also startX and startY to store the left corner point on first click\n",
        "    -->\n",
        "    var mouse = {\n",
        "        x: 0,\n",
        "        y: 0,\n",
        "        startX: 0,\n",
        "        startY: 0\n",
        "    };\n",
        "    <!--\n",
        "    //local left, top, width and height used to keep track of bounding box inside\n",
        "    //of this function\n",
        "    -->\n",
        "    var left=null,top=null,width=0,height=0;\n",
        "    <!--\n",
        "    //Function called when the mouse pointer is moved\n",
        "    -->\n",
        "    canvas.onmousemove = function (e) {\n",
        "        <!--\n",
        "        //set current position to the position of the mouse pointer on screen\n",
        "        -->\n",
        "        setMousePosition(e);\n",
        "        <!--\n",
        "        //check if left is null, if it is then there is no rectangle on the screen\n",
        "        -->\n",
        "        if (left !== null) {\n",
        "            <!--\n",
        "            //This will clear the entire canvas whenever there is already a rectangle \n",
        "            //on the screen because we only need one rectangle on the screen at \n",
        "            //a given time\n",
        "            -->\n",
        "            ctx.clearRect(0,0,canvas.width,canvas.height);\n",
        "            <!--\n",
        "            //After clearing the whole canvas the image will no longer be there\n",
        "            //so draw it again\n",
        "            -->\n",
        "            ctx.drawImage(base_image,0,0,canvas.width,canvas.height);\n",
        "            <!--\n",
        "            //Set width, height, top, left values with respect to the startX\n",
        "            //and startY positions\n",
        "            -->\n",
        "            width = Math.abs(mouse.x - mouse.startX);\n",
        "            height = Math.abs(mouse.y - mouse.startY);\n",
        "            left = (mouse.x - mouse.startX < 0) ? mouse.x : mouse.startX;\n",
        "            top = (mouse.y - mouse.startY < 0) ? mouse.y : mouse.startY;\n",
        "            <!--\n",
        "            //Init function before drawing on canvas\n",
        "            -->\n",
        "            ctx.beginPath();\n",
        "            <!--\n",
        "            //Set the width of the line, strokecolor as per the user input\n",
        "            -->\n",
        "            ctx.lineWidth = \"%d\";\n",
        "            ctx.strokeStyle = \"%s\";\n",
        "            ctx.strokeRect(left, top, width, height);\n",
        "            <!--\n",
        "            //console.log(left,top,width,height);\n",
        "            -->\n",
        "            ctx.stroke();\n",
        "        }\n",
        "    }\n",
        "    <!--\n",
        "    // Invoke onclick function when clicked on canvas \n",
        "    -->\n",
        "    canvas.onclick = function (e) {\n",
        "      <!--\n",
        "      // if left is null that means the rectangle is not there and you create\n",
        "      // a new one by assigning startX and startY else assign coordinate values\n",
        "      // of the rectangle according to current position of the mouse pointer\n",
        "      -->\n",
        "        if (left !== null) {\n",
        "            window.x = left;\n",
        "            window.y = top;\n",
        "            window.width = width;\n",
        "            window.height = height;\n",
        "            left = null;\n",
        "            canvas.style.cursor = \"default\";\n",
        "            console.log(\"finsihed.\");\n",
        "        } else {\n",
        "            console.log(\"begun.\");\n",
        "            mouse.startX = mouse.x;\n",
        "            mouse.startY = mouse.y;\n",
        "            left = mouse.x;\n",
        "            top = mouse.y;\n",
        "            canvas.style.cursor = \"crosshair\";\n",
        "        }\n",
        "    }\n",
        "    \n",
        "    \n",
        "}\n",
        "<!--\n",
        "//Get the button from the document and send the coordinates to python using\n",
        "//promise when the button is clicked\n",
        "-->\n",
        "var button = document.getElementById('capture');\n",
        "var data = new Promise(resolve=>{\n",
        "  button.onclick = ()=>{\n",
        "    resolve([x,y,width,height]);\n",
        "  }\n",
        "});\n",
        "</script>\n",
        "\"\"\"\n",
        "\n",
        "# Fuction used to create the html page in the cell and receive whatever data will\n",
        "# be sent from the variable data in the javascript code above\n",
        "# Return: tuple of (x, y, width, height) bounding box\n",
        "def selectROI(filename='1.jpg', w=400, h=200, line_width=3,color=\"yellow\"):\n",
        "  display(HTML(html_canvas%(w,h,'/nbextensions/{}'.format(filename),line_width,color)))\n",
        "  data = eval_js(\"data\")\n",
        "  return tuple(data)"
      ],
      "execution_count": 8,
      "outputs": []
    },
    {
      "cell_type": "code",
      "metadata": {
        "id": "h7YPRs1_EkXq",
        "outputId": "5838c69c-e2c4-49ce-b556-61e854506332",
        "colab": {
          "base_uri": "https://localhost:8080/",
          "height": 533
        }
      },
      "source": [
        "# read the image to find the width and height \n",
        "frame = cv2.imread(\"{}/\".format(track_video)+frame_name)\n",
        "print(frame.shape)\n",
        "# get the bounding box\n",
        "bbox = selectROI(frame_name,frame.shape[1],frame.shape[0],3,\"yellow\")"
      ],
      "execution_count": 9,
      "outputs": [
        {
          "output_type": "stream",
          "text": [
            "(810, 480, 3)\n"
          ],
          "name": "stdout"
        },
        {
          "output_type": "display_data",
          "data": {
            "text/html": [
              "\n",
              "<!--\n",
              "Create the canvas to display the image to mark the bounding box. \n",
              "-->\n",
              "<canvas id=\"canvas\"></canvas>\n",
              "<!--\n",
              "Button used to send the bounding box coordinates  \n",
              "-->\n",
              "<button id=\"capture\">Capture</button>\n",
              "<script>\n",
              "<!--\n",
              "//Canvas to draw the bounding box on \n",
              "-->\n",
              "var canvas = document.getElementById('canvas');\n",
              "<!--\n",
              "//Width of the image \n",
              "-->\n",
              "var width = 480;\n",
              "<!--\n",
              "//Height of the image \n",
              "-->\n",
              "var height = 810;\n",
              "<!--\n",
              "//Set canvas width to the width of the image \n",
              "-->\n",
              "canvas.style.width = width+'px';\n",
              "<!--\n",
              "//Set canvas height to the height of the image \n",
              "-->\n",
              "canvas.style.height = height+'px';\n",
              "<!--\n",
              "//Get context of the canvas used to draw on the images\n",
              "-->\n",
              "var ctx = canvas.getContext('2d');\n",
              "<!--\n",
              "//Set context width and height according to image width and height\n",
              "-->\n",
              "ctx.canvas.width = width;\n",
              "ctx.canvas.height = height;\n",
              "<!--\n",
              "//Load the image onto a image class to draw it on a canvas\n",
              "-->\n",
              "var base_image = new Image();\n",
              "base_image.src = '/nbextensions/00000001.jpg';\n",
              "base_image.width = width+'px';\n",
              "base_image.height = height+'px';\n",
              "base_image.onload = function(){\n",
              "  ctx.drawImage(base_image,0,0,width,height);\n",
              "}\n",
              "<!--\n",
              "//Call the function that keeps track of the mouse events and draws bounding boxes\n",
              "-->\n",
              "initDraw(canvas,ctx);\n",
              "<!--\n",
              "//Global variables used to send the coordinates that will be set in inside the function \n",
              "//initDraw(canvas,ctx)\n",
              "-->\n",
              "var x,y,width,height;\n",
              "function initDraw(canvas,ctx) {\n",
              "    <!--\n",
              "    //function used to set the mouse position according to current position\n",
              "    -->\n",
              "    function setMousePosition(e) {\n",
              "        var ev = e || window.event; //Moz || IE\n",
              "        if (ev.pageX) { //Moz\n",
              "            mouse.x = ev.pageX + window.pageXOffset;\n",
              "            mouse.y = ev.pageY + window.pageYOffset;\n",
              "        } else if (ev.clientX) { //IE\n",
              "            mouse.x = ev.clientX + document.body.scrollLeft;\n",
              "            mouse.y = ev.clientY + document.body.scrollTop;\n",
              "        }\n",
              "    };\n",
              "    <!--\n",
              "    //Dictionary used to store current x, current y position when the mouse moves\n",
              "    //and also startX and startY to store the left corner point on first click\n",
              "    -->\n",
              "    var mouse = {\n",
              "        x: 0,\n",
              "        y: 0,\n",
              "        startX: 0,\n",
              "        startY: 0\n",
              "    };\n",
              "    <!--\n",
              "    //local left, top, width and height used to keep track of bounding box inside\n",
              "    //of this function\n",
              "    -->\n",
              "    var left=null,top=null,width=0,height=0;\n",
              "    <!--\n",
              "    //Function called when the mouse pointer is moved\n",
              "    -->\n",
              "    canvas.onmousemove = function (e) {\n",
              "        <!--\n",
              "        //set current position to the position of the mouse pointer on screen\n",
              "        -->\n",
              "        setMousePosition(e);\n",
              "        <!--\n",
              "        //check if left is null, if it is then there is no rectangle on the screen\n",
              "        -->\n",
              "        if (left !== null) {\n",
              "            <!--\n",
              "            //This will clear the entire canvas whenever there is already a rectangle \n",
              "            //on the screen because we only need one rectangle on the screen at \n",
              "            //a given time\n",
              "            -->\n",
              "            ctx.clearRect(0,0,canvas.width,canvas.height);\n",
              "            <!--\n",
              "            //After clearing the whole canvas the image will no longer be there\n",
              "            //so draw it again\n",
              "            -->\n",
              "            ctx.drawImage(base_image,0,0,canvas.width,canvas.height);\n",
              "            <!--\n",
              "            //Set width, height, top, left values with respect to the startX\n",
              "            //and startY positions\n",
              "            -->\n",
              "            width = Math.abs(mouse.x - mouse.startX);\n",
              "            height = Math.abs(mouse.y - mouse.startY);\n",
              "            left = (mouse.x - mouse.startX < 0) ? mouse.x : mouse.startX;\n",
              "            top = (mouse.y - mouse.startY < 0) ? mouse.y : mouse.startY;\n",
              "            <!--\n",
              "            //Init function before drawing on canvas\n",
              "            -->\n",
              "            ctx.beginPath();\n",
              "            <!--\n",
              "            //Set the width of the line, strokecolor as per the user input\n",
              "            -->\n",
              "            ctx.lineWidth = \"3\";\n",
              "            ctx.strokeStyle = \"yellow\";\n",
              "            ctx.strokeRect(left, top, width, height);\n",
              "            <!--\n",
              "            //console.log(left,top,width,height);\n",
              "            -->\n",
              "            ctx.stroke();\n",
              "        }\n",
              "    }\n",
              "    <!--\n",
              "    // Invoke onclick function when clicked on canvas \n",
              "    -->\n",
              "    canvas.onclick = function (e) {\n",
              "      <!--\n",
              "      // if left is null that means the rectangle is not there and you create\n",
              "      // a new one by assigning startX and startY else assign coordinate values\n",
              "      // of the rectangle according to current position of the mouse pointer\n",
              "      -->\n",
              "        if (left !== null) {\n",
              "            window.x = left;\n",
              "            window.y = top;\n",
              "            window.width = width;\n",
              "            window.height = height;\n",
              "            left = null;\n",
              "            canvas.style.cursor = \"default\";\n",
              "            console.log(\"finsihed.\");\n",
              "        } else {\n",
              "            console.log(\"begun.\");\n",
              "            mouse.startX = mouse.x;\n",
              "            mouse.startY = mouse.y;\n",
              "            left = mouse.x;\n",
              "            top = mouse.y;\n",
              "            canvas.style.cursor = \"crosshair\";\n",
              "        }\n",
              "    }\n",
              "    \n",
              "    \n",
              "}\n",
              "<!--\n",
              "Get the button from the document and send the coordinates to python using\n",
              "promise when the button is clicked\n",
              "-->\n",
              "var button = document.getElementById('capture');\n",
              "var data = new Promise(resolve=>{\n",
              "  button.onclick = ()=>{\n",
              "    resolve([x,y,width,height]);\n",
              "  }\n",
              "});\n",
              "</script>\n"
            ],
            "text/plain": [
              "<IPython.core.display.HTML object>"
            ]
          },
          "metadata": {
            "tags": []
          }
        },
        {
          "output_type": "error",
          "ename": "MessageError",
          "evalue": "ignored",
          "traceback": [
            "\u001b[0;31m---------------------------------------------------------------------------\u001b[0m",
            "\u001b[0;31mMessageError\u001b[0m                              Traceback (most recent call last)",
            "\u001b[0;32m<ipython-input-9-c3fcf77ff2df>\u001b[0m in \u001b[0;36m<module>\u001b[0;34m()\u001b[0m\n\u001b[1;32m      3\u001b[0m \u001b[0mprint\u001b[0m\u001b[0;34m(\u001b[0m\u001b[0mframe\u001b[0m\u001b[0;34m.\u001b[0m\u001b[0mshape\u001b[0m\u001b[0;34m)\u001b[0m\u001b[0;34m\u001b[0m\u001b[0;34m\u001b[0m\u001b[0m\n\u001b[1;32m      4\u001b[0m \u001b[0;31m# get the bounding box\u001b[0m\u001b[0;34m\u001b[0m\u001b[0;34m\u001b[0m\u001b[0;34m\u001b[0m\u001b[0m\n\u001b[0;32m----> 5\u001b[0;31m \u001b[0mbbox\u001b[0m \u001b[0;34m=\u001b[0m \u001b[0mselectROI\u001b[0m\u001b[0;34m(\u001b[0m\u001b[0mframe_name\u001b[0m\u001b[0;34m,\u001b[0m\u001b[0mframe\u001b[0m\u001b[0;34m.\u001b[0m\u001b[0mshape\u001b[0m\u001b[0;34m[\u001b[0m\u001b[0;36m1\u001b[0m\u001b[0;34m]\u001b[0m\u001b[0;34m,\u001b[0m\u001b[0mframe\u001b[0m\u001b[0;34m.\u001b[0m\u001b[0mshape\u001b[0m\u001b[0;34m[\u001b[0m\u001b[0;36m0\u001b[0m\u001b[0;34m]\u001b[0m\u001b[0;34m,\u001b[0m\u001b[0;36m3\u001b[0m\u001b[0;34m,\u001b[0m\u001b[0;34m\"yellow\"\u001b[0m\u001b[0;34m)\u001b[0m\u001b[0;34m\u001b[0m\u001b[0;34m\u001b[0m\u001b[0m\n\u001b[0m",
            "\u001b[0;32m<ipython-input-8-96e1d01c116d>\u001b[0m in \u001b[0;36mselectROI\u001b[0;34m(filename, w, h, line_width, color)\u001b[0m\n\u001b[1;32m    180\u001b[0m \u001b[0;32mdef\u001b[0m \u001b[0mselectROI\u001b[0m\u001b[0;34m(\u001b[0m\u001b[0mfilename\u001b[0m\u001b[0;34m=\u001b[0m\u001b[0;34m'1.jpg'\u001b[0m\u001b[0;34m,\u001b[0m \u001b[0mw\u001b[0m\u001b[0;34m=\u001b[0m\u001b[0;36m400\u001b[0m\u001b[0;34m,\u001b[0m \u001b[0mh\u001b[0m\u001b[0;34m=\u001b[0m\u001b[0;36m200\u001b[0m\u001b[0;34m,\u001b[0m \u001b[0mline_width\u001b[0m\u001b[0;34m=\u001b[0m\u001b[0;36m3\u001b[0m\u001b[0;34m,\u001b[0m\u001b[0mcolor\u001b[0m\u001b[0;34m=\u001b[0m\u001b[0;34m\"yellow\"\u001b[0m\u001b[0;34m)\u001b[0m\u001b[0;34m:\u001b[0m\u001b[0;34m\u001b[0m\u001b[0;34m\u001b[0m\u001b[0m\n\u001b[1;32m    181\u001b[0m   \u001b[0mdisplay\u001b[0m\u001b[0;34m(\u001b[0m\u001b[0mHTML\u001b[0m\u001b[0;34m(\u001b[0m\u001b[0mhtml_canvas\u001b[0m\u001b[0;34m%\u001b[0m\u001b[0;34m(\u001b[0m\u001b[0mw\u001b[0m\u001b[0;34m,\u001b[0m\u001b[0mh\u001b[0m\u001b[0;34m,\u001b[0m\u001b[0;34m'/nbextensions/{}'\u001b[0m\u001b[0;34m.\u001b[0m\u001b[0mformat\u001b[0m\u001b[0;34m(\u001b[0m\u001b[0mfilename\u001b[0m\u001b[0;34m)\u001b[0m\u001b[0;34m,\u001b[0m\u001b[0mline_width\u001b[0m\u001b[0;34m,\u001b[0m\u001b[0mcolor\u001b[0m\u001b[0;34m)\u001b[0m\u001b[0;34m)\u001b[0m\u001b[0;34m)\u001b[0m\u001b[0;34m\u001b[0m\u001b[0;34m\u001b[0m\u001b[0m\n\u001b[0;32m--> 182\u001b[0;31m   \u001b[0mdata\u001b[0m \u001b[0;34m=\u001b[0m \u001b[0meval_js\u001b[0m\u001b[0;34m(\u001b[0m\u001b[0;34m\"data\"\u001b[0m\u001b[0;34m)\u001b[0m\u001b[0;34m\u001b[0m\u001b[0;34m\u001b[0m\u001b[0m\n\u001b[0m\u001b[1;32m    183\u001b[0m   \u001b[0;32mreturn\u001b[0m \u001b[0mtuple\u001b[0m\u001b[0;34m(\u001b[0m\u001b[0mdata\u001b[0m\u001b[0;34m)\u001b[0m\u001b[0;34m\u001b[0m\u001b[0;34m\u001b[0m\u001b[0m\n",
            "\u001b[0;32m/usr/local/lib/python3.6/dist-packages/google/colab/output/_js.py\u001b[0m in \u001b[0;36meval_js\u001b[0;34m(script, ignore_result)\u001b[0m\n\u001b[1;32m     37\u001b[0m   \u001b[0;32mif\u001b[0m \u001b[0mignore_result\u001b[0m\u001b[0;34m:\u001b[0m\u001b[0;34m\u001b[0m\u001b[0;34m\u001b[0m\u001b[0m\n\u001b[1;32m     38\u001b[0m     \u001b[0;32mreturn\u001b[0m\u001b[0;34m\u001b[0m\u001b[0;34m\u001b[0m\u001b[0m\n\u001b[0;32m---> 39\u001b[0;31m   \u001b[0;32mreturn\u001b[0m \u001b[0m_message\u001b[0m\u001b[0;34m.\u001b[0m\u001b[0mread_reply_from_input\u001b[0m\u001b[0;34m(\u001b[0m\u001b[0mrequest_id\u001b[0m\u001b[0;34m)\u001b[0m\u001b[0;34m\u001b[0m\u001b[0;34m\u001b[0m\u001b[0m\n\u001b[0m\u001b[1;32m     40\u001b[0m \u001b[0;34m\u001b[0m\u001b[0m\n\u001b[1;32m     41\u001b[0m \u001b[0;34m\u001b[0m\u001b[0m\n",
            "\u001b[0;32m/usr/local/lib/python3.6/dist-packages/google/colab/_message.py\u001b[0m in \u001b[0;36mread_reply_from_input\u001b[0;34m(message_id, timeout_sec)\u001b[0m\n\u001b[1;32m    104\u001b[0m         reply.get('colab_msg_id') == message_id):\n\u001b[1;32m    105\u001b[0m       \u001b[0;32mif\u001b[0m \u001b[0;34m'error'\u001b[0m \u001b[0;32min\u001b[0m \u001b[0mreply\u001b[0m\u001b[0;34m:\u001b[0m\u001b[0;34m\u001b[0m\u001b[0;34m\u001b[0m\u001b[0m\n\u001b[0;32m--> 106\u001b[0;31m         \u001b[0;32mraise\u001b[0m \u001b[0mMessageError\u001b[0m\u001b[0;34m(\u001b[0m\u001b[0mreply\u001b[0m\u001b[0;34m[\u001b[0m\u001b[0;34m'error'\u001b[0m\u001b[0;34m]\u001b[0m\u001b[0;34m)\u001b[0m\u001b[0;34m\u001b[0m\u001b[0;34m\u001b[0m\u001b[0m\n\u001b[0m\u001b[1;32m    107\u001b[0m       \u001b[0;32mreturn\u001b[0m \u001b[0mreply\u001b[0m\u001b[0;34m.\u001b[0m\u001b[0mget\u001b[0m\u001b[0;34m(\u001b[0m\u001b[0;34m'data'\u001b[0m\u001b[0;34m,\u001b[0m \u001b[0;32mNone\u001b[0m\u001b[0;34m)\u001b[0m\u001b[0;34m\u001b[0m\u001b[0;34m\u001b[0m\u001b[0m\n\u001b[1;32m    108\u001b[0m \u001b[0;34m\u001b[0m\u001b[0m\n",
            "\u001b[0;31mMessageError\u001b[0m: ReferenceError: data is not defined"
          ]
        }
      ]
    },
    {
      "cell_type": "code",
      "metadata": {
        "id": "eYUp7e2xH-Kr",
        "outputId": "aaedab95-92fa-4231-8ac8-78b58972a46f",
        "colab": {
          "base_uri": "https://localhost:8080/"
        }
      },
      "source": [
        "bbox"
      ],
      "execution_count": null,
      "outputs": [
        {
          "output_type": "execute_result",
          "data": {
            "text/plain": [
              "(171, 385, 56, 71)"
            ]
          },
          "metadata": {
            "tags": []
          },
          "execution_count": 13
        }
      ]
    },
    {
      "cell_type": "code",
      "metadata": {
        "id": "B4q7SFmtIDvL"
      },
      "source": [
        "# Initialize the tracker with the first frame\n",
        "ok = tracker.init(frame,bbox)"
      ],
      "execution_count": null,
      "outputs": []
    },
    {
      "cell_type": "code",
      "metadata": {
        "id": "N2fK1NgOPRP0",
        "outputId": "0b7b5d80-2fc3-4fca-f01a-f01d77f76bab",
        "colab": {
          "base_uri": "https://localhost:8080/"
        }
      },
      "source": [
        "print(ok)"
      ],
      "execution_count": null,
      "outputs": [
        {
          "output_type": "stream",
          "text": [
            "True\n"
          ],
          "name": "stdout"
        }
      ]
    },
    {
      "cell_type": "code",
      "metadata": {
        "id": "x2vq96LOKBFN",
        "outputId": "1ce75bc3-10c6-4b32-df62-8878daf3df0c",
        "colab": {
          "base_uri": "https://localhost:8080/"
        }
      },
      "source": [
        "while True:\n",
        "  # clear_output()\n",
        "  frame_number+=1\n",
        "  frame_name1 = \"{}.jpg\".format(frame_number)\n",
        "  frame_name1 = frame_name1.rjust(12,\"0\")\n",
        "  frame1 = cv2.imread(\"{}/\".format(track_video)+frame_name1)\n",
        "  try:\n",
        "    frame1.size\n",
        "    print(frame_name1)\n",
        "  except:\n",
        "    break\n",
        "  # Start timer\n",
        "  timer = cv2.getTickCount()\n",
        "  # Update the tracker\n",
        "  ok, bbox = tracker.update(frame1)\n",
        "\n",
        "  # Calculate Frames Per Second (FPS) \n",
        "  fps = cv2.getTickFrequency() / (cv2.getTickCount() - timer)\n",
        "\n",
        "  if ok:\n",
        "    # Tracking success\n",
        "    p1 = (int(bbox[0]), int(bbox[1]))\n",
        "    p2 = (int(bbox[0] + bbox[2]), int(bbox[1] + bbox[3]))\n",
        "    cv2.rectangle(frame1, p1, p2, (255,255,0), 3, 1)\n",
        "  else:\n",
        "    # Tracking failure\n",
        "    cv2.putText(frame1, \"Tracking failure detected\", (100,80), cv2.FONT_HERSHEY_SIMPLEX, 0.75,(0,0,255),2)\n",
        "  \n",
        "  # Display tracker type on frame\n",
        "  cv2.putText(frame1, tracker_type + \" Tracker\", (100,20), cv2.FONT_HERSHEY_SIMPLEX, 0.75, (255,0,0),2)\n",
        "  \n",
        "  # Display FPS on frame\n",
        "  cv2.putText(frame1, \"FPS : \" + str(int(fps)), (100,50), cv2.FONT_HERSHEY_SIMPLEX, 0.75, (255,0,0), 2)\n",
        "  gif.append(frame1)\n",
        "  # cv2_imshow(frame)\n"
      ],
      "execution_count": null,
      "outputs": [
        {
          "output_type": "stream",
          "text": [
            "00000002.jpg\n",
            "00000003.jpg\n",
            "00000004.jpg\n",
            "00000005.jpg\n",
            "00000006.jpg\n",
            "00000007.jpg\n",
            "00000008.jpg\n",
            "00000009.jpg\n",
            "00000010.jpg\n",
            "00000011.jpg\n",
            "00000012.jpg\n",
            "00000013.jpg\n",
            "00000014.jpg\n",
            "00000015.jpg\n",
            "00000016.jpg\n",
            "00000017.jpg\n",
            "00000018.jpg\n",
            "00000019.jpg\n",
            "00000020.jpg\n",
            "00000021.jpg\n",
            "00000022.jpg\n",
            "00000023.jpg\n",
            "00000024.jpg\n",
            "00000025.jpg\n",
            "00000026.jpg\n",
            "00000027.jpg\n",
            "00000028.jpg\n",
            "00000029.jpg\n",
            "00000030.jpg\n",
            "00000031.jpg\n",
            "00000032.jpg\n",
            "00000033.jpg\n",
            "00000034.jpg\n",
            "00000035.jpg\n",
            "00000036.jpg\n",
            "00000037.jpg\n",
            "00000038.jpg\n",
            "00000039.jpg\n",
            "00000040.jpg\n",
            "00000041.jpg\n",
            "00000042.jpg\n",
            "00000043.jpg\n",
            "00000044.jpg\n",
            "00000045.jpg\n",
            "00000046.jpg\n",
            "00000047.jpg\n",
            "00000048.jpg\n",
            "00000049.jpg\n",
            "00000050.jpg\n",
            "00000051.jpg\n",
            "00000052.jpg\n",
            "00000053.jpg\n",
            "00000054.jpg\n",
            "00000055.jpg\n",
            "00000056.jpg\n",
            "00000057.jpg\n",
            "00000058.jpg\n",
            "00000059.jpg\n",
            "00000060.jpg\n",
            "00000061.jpg\n",
            "00000062.jpg\n",
            "00000063.jpg\n",
            "00000064.jpg\n",
            "00000065.jpg\n",
            "00000066.jpg\n",
            "00000067.jpg\n",
            "00000068.jpg\n",
            "00000069.jpg\n",
            "00000070.jpg\n",
            "00000071.jpg\n",
            "00000072.jpg\n",
            "00000073.jpg\n",
            "00000074.jpg\n",
            "00000075.jpg\n",
            "00000076.jpg\n",
            "00000077.jpg\n",
            "00000078.jpg\n",
            "00000079.jpg\n",
            "00000080.jpg\n",
            "00000081.jpg\n",
            "00000082.jpg\n",
            "00000083.jpg\n",
            "00000084.jpg\n",
            "00000085.jpg\n",
            "00000086.jpg\n",
            "00000087.jpg\n",
            "00000088.jpg\n",
            "00000089.jpg\n",
            "00000090.jpg\n",
            "00000091.jpg\n",
            "00000092.jpg\n",
            "00000093.jpg\n",
            "00000094.jpg\n",
            "00000095.jpg\n",
            "00000096.jpg\n",
            "00000097.jpg\n",
            "00000098.jpg\n",
            "00000099.jpg\n",
            "00000100.jpg\n",
            "00000101.jpg\n",
            "00000102.jpg\n",
            "00000103.jpg\n",
            "00000104.jpg\n",
            "00000105.jpg\n",
            "00000106.jpg\n",
            "00000107.jpg\n",
            "00000108.jpg\n",
            "00000109.jpg\n",
            "00000110.jpg\n",
            "00000111.jpg\n",
            "00000112.jpg\n",
            "00000113.jpg\n",
            "00000114.jpg\n",
            "00000115.jpg\n",
            "00000116.jpg\n",
            "00000117.jpg\n",
            "00000118.jpg\n",
            "00000119.jpg\n",
            "00000120.jpg\n",
            "00000121.jpg\n",
            "00000122.jpg\n",
            "00000123.jpg\n",
            "00000124.jpg\n",
            "00000125.jpg\n",
            "00000126.jpg\n",
            "00000127.jpg\n",
            "00000128.jpg\n",
            "00000129.jpg\n",
            "00000130.jpg\n",
            "00000131.jpg\n",
            "00000132.jpg\n",
            "00000133.jpg\n",
            "00000134.jpg\n",
            "00000135.jpg\n",
            "00000136.jpg\n",
            "00000137.jpg\n",
            "00000138.jpg\n",
            "00000139.jpg\n",
            "00000140.jpg\n",
            "00000141.jpg\n",
            "00000142.jpg\n",
            "00000143.jpg\n",
            "00000144.jpg\n",
            "00000145.jpg\n",
            "00000146.jpg\n",
            "00000147.jpg\n",
            "00000148.jpg\n",
            "00000149.jpg\n",
            "00000150.jpg\n",
            "00000151.jpg\n",
            "00000152.jpg\n",
            "00000153.jpg\n",
            "00000154.jpg\n",
            "00000155.jpg\n",
            "00000156.jpg\n",
            "00000157.jpg\n",
            "00000158.jpg\n",
            "00000159.jpg\n",
            "00000160.jpg\n",
            "00000161.jpg\n",
            "00000162.jpg\n",
            "00000163.jpg\n",
            "00000164.jpg\n",
            "00000165.jpg\n",
            "00000166.jpg\n",
            "00000167.jpg\n",
            "00000168.jpg\n",
            "00000169.jpg\n",
            "00000170.jpg\n",
            "00000171.jpg\n"
          ],
          "name": "stdout"
        }
      ]
    },
    {
      "cell_type": "code",
      "metadata": {
        "id": "-p6CkYV5PdIo",
        "outputId": "7f824764-2329-40f7-d4ed-568d87f3dd28",
        "colab": {
          "base_uri": "https://localhost:8080/"
        }
      },
      "source": [
        "print(type(gif[0]))\n",
        "frame_number"
      ],
      "execution_count": null,
      "outputs": [
        {
          "output_type": "stream",
          "text": [
            "<class 'numpy.ndarray'>\n"
          ],
          "name": "stdout"
        },
        {
          "output_type": "execute_result",
          "data": {
            "text/plain": [
              "172"
            ]
          },
          "metadata": {
            "tags": []
          },
          "execution_count": 19
        }
      ]
    },
    {
      "cell_type": "code",
      "metadata": {
        "id": "qzLARjsKweNX"
      },
      "source": [
        "# Resource: https://stackoverflow.com/questions/44650888/resize-an-image-without-distortion-opencv\n",
        "def image_resize(image, width = None, height = None, inter = cv2.INTER_AREA):\n",
        "    # initialize the dimensions of the image to be resized and\n",
        "    # grab the image size\n",
        "    dim = None\n",
        "    (h, w) = image.shape[:2]\n",
        "\n",
        "    # if both the width and height are None, then return the\n",
        "    # original image\n",
        "    if width is None and height is None:\n",
        "        return image\n",
        "\n",
        "    # check to see if the width is None\n",
        "    if width is None:\n",
        "        # calculate the ratio of the height and construct the\n",
        "        # dimensions\n",
        "        r = height / float(h)\n",
        "        dim = (int(w * r), height)\n",
        "\n",
        "    # otherwise, the height is None\n",
        "    else:\n",
        "        # calculate the ratio of the width and construct the\n",
        "        # dimensions\n",
        "        r = width / float(w)\n",
        "        dim = (width, int(h * r))\n",
        "\n",
        "    # resize the image\n",
        "    resized = cv2.resize(image, dim, interpolation = inter)\n",
        "\n",
        "    # return the resized image\n",
        "    return resized"
      ],
      "execution_count": null,
      "outputs": []
    },
    {
      "cell_type": "code",
      "metadata": {
        "id": "pJ-TWxlk5Ik4"
      },
      "source": [
        "import random\n",
        "random.seed(10)\n",
        "gifs = []\n",
        "images = []# Images, just convert it into PIL.Image obj\n",
        "n = len(gif)\n",
        "ind = set(random.sample(list(range(0,n)),12))\n",
        "cur_image_ind = 0\n",
        "cur_ind = 0\n",
        "imgs = [[] for _ in range(3)]\n",
        "# Go through each image and convert them to Image object from numpy array\n",
        "for image in gif:\n",
        "  gifs.append(Image.fromarray(image.astype(np.uint8)))\n",
        "  if cur_image_ind in ind:\n",
        "    imgs[cur_ind%3].append(image_resize(image,200))\n",
        "    cur_ind+=1\n",
        "  cur_image_ind+=1\n",
        "# Convert all the elements of gifs of type Image to a gif\n",
        "gifs[0].save('temp_result.gif', save_all=True,optimize=True, append_images=gifs[1:], loop=0)"
      ],
      "execution_count": null,
      "outputs": []
    },
    {
      "cell_type": "code",
      "metadata": {
        "id": "vBQEIu53xVyT"
      },
      "source": [
        "for i in range(3):\n",
        "  imgs[i] = np.hstack(imgs[i])\n",
        "v_stack = np.vstack(imgs)\n"
      ],
      "execution_count": null,
      "outputs": []
    },
    {
      "cell_type": "code",
      "metadata": {
        "id": "jIqFOODhxpCe"
      },
      "source": [
        "cv2_imshow(v_stack)"
      ],
      "execution_count": null,
      "outputs": []
    },
    {
      "cell_type": "code",
      "metadata": {
        "id": "KQvTRIBD3b3X",
        "outputId": "d4f864af-0fd4-4550-e46d-c36b5ff922ec",
        "colab": {
          "base_uri": "https://localhost:8080/"
        }
      },
      "source": [
        "# Copy the gif to access it from HTML\n",
        "os.system(\"cp temp_result.gif /usr/local/share/jupyter/nbextensions/temp_result.gif\")"
      ],
      "execution_count": null,
      "outputs": [
        {
          "output_type": "execute_result",
          "data": {
            "text/plain": [
              "0"
            ]
          },
          "metadata": {
            "tags": []
          },
          "execution_count": 21
        }
      ]
    },
    {
      "cell_type": "code",
      "metadata": {
        "id": "uo-e7AmCBuOU"
      },
      "source": [
        "# Display the gif, it will take some time because the GIF is not optimized and\n",
        "# is heavy in terms of size\n",
        "display_html = \"\"\"\n",
        "<img src=\"/nbextensions/temp_result.gif\">\n",
        "\"\"\"\n",
        "display(HTML(display_html))"
      ],
      "execution_count": null,
      "outputs": []
    },
    {
      "cell_type": "code",
      "metadata": {
        "id": "8KrGFqxPcgKR"
      },
      "source": [
        ""
      ],
      "execution_count": null,
      "outputs": []
    }
  ]
}