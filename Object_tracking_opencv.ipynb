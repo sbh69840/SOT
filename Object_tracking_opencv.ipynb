{
  "nbformat": 4,
  "nbformat_minor": 0,
  "metadata": {
    "colab": {
      "name": "Object_tracking_opencv.ipynb",
      "provenance": [],
      "authorship_tag": "ABX9TyO9DyNbDWDXtV+MbquNF1FZ",
      "include_colab_link": true
    },
    "kernelspec": {
      "name": "python3",
      "display_name": "Python 3"
    }
  },
  "cells": [
    {
      "cell_type": "markdown",
      "metadata": {
        "id": "view-in-github",
        "colab_type": "text"
      },
      "source": [
        "<a href=\"https://colab.research.google.com/github/sbh69840/SOT/blob/main/Object_tracking_opencv.ipynb\" target=\"_parent\"><img src=\"https://colab.research.google.com/assets/colab-badge.svg\" alt=\"Open In Colab\"/></a>"
      ]
    },
    {
      "cell_type": "code",
      "metadata": {
        "id": "OLsyYBXmEm1p",
        "outputId": "e9011d7f-b771-4247-e40f-17ff8285b212",
        "colab": {
          "base_uri": "https://localhost:8080/"
        }
      },
      "source": [
        "!git clone https://github.com/sbh69840/SOT-dataset.git"
      ],
      "execution_count": 1,
      "outputs": [
        {
          "output_type": "stream",
          "text": [
            "Cloning into 'SOT-dataset'...\n",
            "remote: Enumerating objects: 17, done.\u001b[K\n",
            "remote: Counting objects: 100% (17/17), done.\u001b[K\n",
            "remote: Compressing objects: 100% (14/14), done.\u001b[K\n",
            "remote: Total 17 (delta 2), reused 3 (delta 0), pack-reused 0\u001b[K\n",
            "Unpacking objects: 100% (17/17), done.\n"
          ],
          "name": "stdout"
        }
      ]
    },
    {
      "cell_type": "code",
      "metadata": {
        "id": "ye1BYGQMgiEx"
      },
      "source": [
        "track_video = \"track1\""
      ],
      "execution_count": 2,
      "outputs": []
    },
    {
      "cell_type": "code",
      "metadata": {
        "id": "bydKGV_1di1r",
        "outputId": "8adeeb34-32a4-4fbf-99be-02788be4c364",
        "colab": {
          "base_uri": "https://localhost:8080/"
        }
      },
      "source": [
        "import os\n",
        "os.system(\"unzip SOT-dataset/{}.zip\".format(track_video))"
      ],
      "execution_count": 4,
      "outputs": [
        {
          "output_type": "execute_result",
          "data": {
            "text/plain": [
              "0"
            ]
          },
          "metadata": {
            "tags": []
          },
          "execution_count": 4
        }
      ]
    },
    {
      "cell_type": "code",
      "metadata": {
        "id": "8vSCD7LzdtRB"
      },
      "source": [
        "# Resource : https://www.learnopencv.com/object-tracking-using-opencv-cpp-python/\n",
        "\n",
        "import cv2\n",
        "import sys\n",
        "\n",
        "(major_ver, minor_ver, subminor_ver) = (cv2.__version__).split('.')￼\n",
        "\n",
        "# Set up tracker.\n",
        "# Instead of MIL, you can also use\n",
        "\n",
        "tracker_types = ['BOOSTING', 'MIL','KCF', 'TLD', 'MEDIANFLOW', 'GOTURN', 'MOSSE', 'CSRT']\n",
        "tracker_type = tracker_types[2]\n",
        "\n",
        "if int(minor_ver) < 3:\n",
        "    tracker = cv2.Tracker_create(tracker_type)\n",
        "else:\n",
        "    if tracker_type == 'BOOSTING':\n",
        "        tracker = cv2.TrackerBoosting_create()\n",
        "    if tracker_type == 'MIL':\n",
        "        tracker = cv2.TrackerMIL_create()\n",
        "    if tracker_type == 'KCF':\n",
        "        tracker = cv2.TrackerKCF_create()\n",
        "    if tracker_type == 'TLD':\n",
        "        tracker = cv2.TrackerTLD_create()\n",
        "    if tracker_type == 'MEDIANFLOW':\n",
        "        tracker = cv2.TrackerMedianFlow_create()\n",
        "    if tracker_type == 'GOTURN':\n",
        "        tracker = cv2.TrackerGOTURN_create()\n",
        "    if tracker_type == 'MOSSE':\n",
        "        tracker = cv2.TrackerMOSSE_create()\n",
        "    if tracker_type == \"CSRT\":\n",
        "        tracker = cv2.TrackerCSRT_create()"
      ],
      "execution_count": null,
      "outputs": []
    },
    {
      "cell_type": "code",
      "metadata": {
        "id": "9XQaW4W2fcjq",
        "outputId": "67cb9ff5-ce7f-4e89-ad83-21bd3f91fe30",
        "colab": {
          "base_uri": "https://localhost:8080/"
        }
      },
      "source": [
        "frame_name = \"1.jpg\"\n",
        "frame_name = frame_name.rjust(12,\"0\")\n",
        "os.system(\"cp {0}/{1} /usr/local/share/jupyter/nbextensions/{1}\".format(track_video,frame_name))"
      ],
      "execution_count": 5,
      "outputs": [
        {
          "output_type": "execute_result",
          "data": {
            "text/plain": [
              "0"
            ]
          },
          "metadata": {
            "tags": []
          },
          "execution_count": 5
        }
      ]
    },
    {
      "cell_type": "code",
      "metadata": {
        "id": "fNN_fQnSCxfY"
      },
      "source": [
        "from IPython.display import HTML, Image\n",
        "from google.colab.output import eval_js\n",
        "from base64 import b64decode\n",
        "from PIL import Image\n",
        "\n",
        "html_canvas = \"\"\"\n",
        "<canvas id=\"canvas\"></canvas>\n",
        "<button id=\"capture\">Capture</button>\n",
        "<script>\n",
        "var canvas = document.getElementById('canvas');\n",
        "var width = %d;\n",
        "var height = %d;\n",
        "canvas.style.width = width+'px';\n",
        "canvas.style.height = height+'px';\n",
        "var ctx = canvas.getContext('2d');\n",
        "ctx.canvas.width = width;\n",
        "ctx.canvas.height = height;\n",
        "var base_image = new Image();\n",
        "base_image.src = '%s';\n",
        "base_image.width = width+'px';\n",
        "base_image.height = height+'px';\n",
        "base_image.onload = function(){\n",
        "  ctx.drawImage(base_image,0,0,width,height);\n",
        "}\n",
        "initDraw(canvas,ctx);\n",
        "var x,y,width,height;\n",
        "function initDraw(canvas,ctx) {\n",
        "    function setMousePosition(e) {\n",
        "        var ev = e || window.event; //Moz || IE\n",
        "        if (ev.pageX) { //Moz\n",
        "            mouse.x = ev.pageX + window.pageXOffset;\n",
        "            mouse.y = ev.pageY + window.pageYOffset;\n",
        "        } else if (ev.clientX) { //IE\n",
        "            mouse.x = ev.clientX + document.body.scrollLeft;\n",
        "            mouse.y = ev.clientY + document.body.scrollTop;\n",
        "        }\n",
        "    };\n",
        "\n",
        "    var mouse = {\n",
        "        x: 0,\n",
        "        y: 0,\n",
        "        startX: 0,\n",
        "        startY: 0\n",
        "    };\n",
        "    var left=null,top=null,width=0,height=0;\n",
        "    canvas.onmousemove = function (e) {\n",
        "        setMousePosition(e);\n",
        "        if (left !== null) {\n",
        "            ctx.clearRect(0,0,canvas.width,canvas.height);\n",
        "            ctx.drawImage(base_image,0,0,canvas.width,canvas.height);\n",
        "            width = Math.abs(mouse.x - mouse.startX);\n",
        "            height = Math.abs(mouse.y - mouse.startY);\n",
        "            left = (mouse.x - mouse.startX < 0) ? mouse.x : mouse.startX;\n",
        "            top = (mouse.y - mouse.startY < 0) ? mouse.y : mouse.startY;\n",
        "            ctx.beginPath();\n",
        "            ctx.lineWidth = \"%d\";\n",
        "            ctx.strokeStyle = \"%s\";\n",
        "            ctx.strokeRect(left, top, width, height);\n",
        "            console.log(left,top,width,height);\n",
        "            \n",
        "            ctx.stroke();\n",
        "        }\n",
        "    }\n",
        "\n",
        "    canvas.onclick = function (e) {\n",
        "        if (left !== null) {\n",
        "            window.x = left;\n",
        "            window.y = top;\n",
        "            window.width = width;\n",
        "            window.height = height;\n",
        "            left = null;\n",
        "            canvas.style.cursor = \"default\";\n",
        "            console.log(\"finsihed.\");\n",
        "        } else {\n",
        "            console.log(\"begun.\");\n",
        "            mouse.startX = mouse.x;\n",
        "            mouse.startY = mouse.y;\n",
        "            left = mouse.x;\n",
        "            top = mouse.y;\n",
        "            canvas.style.cursor = \"crosshair\";\n",
        "        }\n",
        "    }\n",
        "    \n",
        "    \n",
        "}\n",
        "var button = document.getElementById('capture');\n",
        "var data = new Promise(resolve=>{\n",
        "  button.onclick = ()=>{\n",
        "    resolve([x,y,width,height]);\n",
        "  }\n",
        "});\n",
        "</script>\n",
        "\"\"\"\n",
        "\n",
        "def selectROI(filename='1.jpg', w=400, h=200, line_width=3,color=\"yellow\"):\n",
        "  img = Image.open('/usr/local/share/jupyter/nbextensions/{}'.format(filename))\n",
        "  display(HTML(html_canvas%(img.size[0],img.size[1],'/nbextensions/{}'.format(filename),line_width,color)))\n",
        "  data = eval_js(\"data\")\n",
        "  return tuple(data)"
      ],
      "execution_count": null,
      "outputs": []
    },
    {
      "cell_type": "code",
      "metadata": {
        "id": "Knhw5rNHfJ8H"
      },
      "source": [
        "# Read video\n",
        "    video = cv2.VideoCapture(\"videos/chaplin.mp4\")\n",
        "\n",
        "    # Exit if video not opened.\n",
        "    if not video.isOpened():\n",
        "        print \"Could not open video\"\n",
        "        sys.exit()\n",
        "\n",
        "    # Read first frame.\n",
        "    ok, frame = video.read()\n",
        "    if not ok:\n",
        "        print 'Cannot read video file'\n",
        "        sys.exit()\n",
        "    \n",
        "    # Define an initial bounding box\n",
        "    bbox = (287, 23, 86, 320)\n",
        "\n",
        "    # Uncomment the line below to select a different bounding box\n",
        "    bbox = cv2.selectROI(frame, False)\n",
        "\n",
        "    # Initialize tracker with first frame and bounding box\n",
        "    ok = tracker.init(frame, bbox)\n",
        "\n",
        "    while True:\n",
        "        # Read a new frame\n",
        "        ok, frame = video.read()\n",
        "        if not ok:\n",
        "            break\n",
        "        \n",
        "        # Start timer\n",
        "        timer = cv2.getTickCount()\n",
        "\n",
        "        # Update tracker\n",
        "        ok, bbox = tracker.update(frame)\n",
        "\n",
        "        # Calculate Frames per second (FPS)\n",
        "        fps = cv2.getTickFrequency() / (cv2.getTickCount() - timer);\n",
        "\n",
        "        # Draw bounding box\n",
        "        if ok:\n",
        "            # Tracking success\n",
        "            p1 = (int(bbox[0]), int(bbox[1]))\n",
        "            p2 = (int(bbox[0] + bbox[2]), int(bbox[1] + bbox[3]))\n",
        "            cv2.rectangle(frame, p1, p2, (255,0,0), 2, 1)\n",
        "        else :\n",
        "            # Tracking failure\n",
        "            cv2.putText(frame, \"Tracking failure detected\", (100,80), cv2.FONT_HERSHEY_SIMPLEX, 0.75,(0,0,255),2)\n",
        "\n",
        "        # Display tracker type on frame\n",
        "        cv2.putText(frame, tracker_type + \" Tracker\", (100,20), cv2.FONT_HERSHEY_SIMPLEX, 0.75, (50,170,50),2);\n",
        "    \n",
        "        # Display FPS on frame\n",
        "        cv2.putText(frame, \"FPS : \" + str(int(fps)), (100,50), cv2.FONT_HERSHEY_SIMPLEX, 0.75, (50,170,50), 2);\n",
        "\n",
        "        # Display result\n",
        "        cv2.imshow(\"Tracking\", frame)\n",
        "\n",
        "        # Exit if ESC pressed\n",
        "        k = cv2.waitKey(1) & 0xff\n",
        "        if k == 27 : break\n"
      ],
      "execution_count": null,
      "outputs": []
    }
  ]
}