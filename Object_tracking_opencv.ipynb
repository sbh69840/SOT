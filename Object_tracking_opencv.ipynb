{
  "nbformat": 4,
  "nbformat_minor": 0,
  "metadata": {
    "colab": {
      "name": "Object_tracking_opencv.ipynb",
      "provenance": [],
      "toc_visible": true,
      "authorship_tag": "ABX9TyOXm4R7M4NKuoqw5zS1FKLe",
      "include_colab_link": true
    },
    "kernelspec": {
      "name": "python3",
      "display_name": "Python 3"
    }
  },
  "cells": [
    {
      "cell_type": "markdown",
      "metadata": {
        "id": "view-in-github",
        "colab_type": "text"
      },
      "source": [
        "<a href=\"https://colab.research.google.com/github/sbh69840/SOT/blob/main/Object_tracking_opencv.ipynb\" target=\"_parent\"><img src=\"https://colab.research.google.com/assets/colab-badge.svg\" alt=\"Open In Colab\"/></a>"
      ]
    },
    {
      "cell_type": "markdown",
      "metadata": {
        "id": "TBxmBvWC35wk"
      },
      "source": [
        "# Object tracking using OpenCV \n",
        "A simple object tracker built with OpenCV and JavaScript (for selecting the bounding box) \\\\\n",
        "This tutorial is for datasets from VOT which consist of images instead of video.\n",
        "\n"
      ]
    },
    {
      "cell_type": "code",
      "metadata": {
        "id": "ODvWsvaOYz2Z"
      },
      "source": [
        "# To execute some of the system commands like unzip and cp\n",
        "import os\n",
        "# Image processing library which contains trackers and image manipultation tools\n",
        "import cv2\n",
        "# Disply widgets to show output on the cell \n",
        "from IPython.display import HTML, Image\n",
        "# Communicate between JS and Python\n",
        "from google.colab.output import eval_js\n",
        "# To display images because cv2.imshow doesn't work as it opens a new X-terminal\n",
        "# which is not possible because a jupyter notebook instance doesn't allow that\n",
        "from google.colab.patches import cv2_imshow\n",
        "# To convert images to GIF\n",
        "from PIL import Image\n",
        "# high-level mathematical functions library\n",
        "import numpy as np"
      ],
      "execution_count": 1,
      "outputs": []
    },
    {
      "cell_type": "code",
      "metadata": {
        "id": "OLsyYBXmEm1p",
        "outputId": "052ed9ac-39e2-4f7a-bf64-494650ce7feb",
        "colab": {
          "base_uri": "https://localhost:8080/"
        }
      },
      "source": [
        "# Clone the repository containing the dataset collected for the purpose of object tracking\n",
        "!git clone https://github.com/sbh69840/SOT-dataset.git"
      ],
      "execution_count": 2,
      "outputs": [
        {
          "output_type": "stream",
          "text": [
            "fatal: destination path 'SOT-dataset' already exists and is not an empty directory.\n"
          ],
          "name": "stdout"
        }
      ]
    },
    {
      "cell_type": "code",
      "metadata": {
        "id": "ye1BYGQMgiEx"
      },
      "source": [
        "# Choose from the available zip files containing images of each frame named track{id}\n",
        "track_video = \"track1\""
      ],
      "execution_count": 3,
      "outputs": []
    },
    {
      "cell_type": "code",
      "metadata": {
        "id": "bydKGV_1di1r",
        "outputId": "90d4a97d-6d80-4e9e-a441-f7f84fa85a57",
        "colab": {
          "base_uri": "https://localhost:8080/"
        }
      },
      "source": [
        "# Unzip the files from the zip file\n",
        "os.system(\"unzip SOT-dataset/{}.zip\".format(track_video))"
      ],
      "execution_count": 4,
      "outputs": [
        {
          "output_type": "execute_result",
          "data": {
            "text/plain": [
              "256"
            ]
          },
          "metadata": {
            "tags": []
          },
          "execution_count": 4
        }
      ]
    },
    {
      "cell_type": "code",
      "metadata": {
        "id": "8vSCD7LzdtRB"
      },
      "source": [
        "# Resource : https://www.learnopencv.com/object-tracking-using-opencv-cpp-python/\n",
        "\n",
        "# List of available trackers in openCV\n",
        "tracker_types = ['BOOSTING', 'MIL','KCF', 'TLD', 'MEDIANFLOW', 'GOTURN', 'MOSSE', 'CSRT']\n",
        "# Function used to select tracker\n",
        "def select_tracker(tracker_id):\n",
        "  # Make tracker and tracker_type global to access it outside the function\n",
        "  global tracker\n",
        "  global tracker_type\n",
        "  tracker_type = tracker_types[tracker_id]\n",
        "  # Set up tracker.\n",
        "  if tracker_type == 'BOOSTING':\n",
        "      tracker = cv2.TrackerBoosting_create()\n",
        "  if tracker_type == 'MIL':\n",
        "      tracker = cv2.TrackerMIL_create()\n",
        "  if tracker_type == 'KCF':\n",
        "      tracker = cv2.TrackerKCF_create()\n",
        "  if tracker_type == 'TLD':\n",
        "      tracker = cv2.TrackerTLD_create()\n",
        "  if tracker_type == 'MEDIANFLOW':\n",
        "      tracker = cv2.TrackerMedianFlow_create()\n",
        "  if tracker_type == 'GOTURN':\n",
        "      # Uninstall the current version and install the older version where goturn \n",
        "      # works. Remeber to run again after the session restarts\n",
        "      v = os.system(\"git clone --depth=1 https://github.com/spmallick/goturn-files.git\")\n",
        "      if v==0:\n",
        "        os.kill(os.getpid(), 9)\n",
        "      else:\n",
        "        tracker = cv2.TrackerGOTURN_create()\n",
        "        return\n",
        "      !pip uninstall opencv-python\n",
        "      !pip install opencv-python==3.4.1.15\n",
        "      !pip install opencv-contrib-python==3.4.1.15\n",
        "      os.system(\"mv goturn-files/* .\")\n",
        "      os.system(\"cat goturn.caffemodel.zip* > goturn.caffemodel.zip\")\n",
        "      os.system(\"unzip goturn.caffemodel.zip\")\n",
        "      \n",
        "      \n",
        "  if tracker_type == 'MOSSE':\n",
        "      tracker = cv2.TrackerMOSSE_create()\n",
        "  if tracker_type == \"CSRT\":\n",
        "      tracker = cv2.TrackerCSRT_create()"
      ],
      "execution_count": 5,
      "outputs": []
    },
    {
      "cell_type": "code",
      "metadata": {
        "id": "0almp4BvYdeC",
        "outputId": "f7e9ab78-8084-4426-bffd-15ddc59f3125",
        "colab": {
          "base_uri": "https://localhost:8080/"
        }
      },
      "source": [
        "# Call the function to select the tracker\n",
        "select_tracker(5)\n",
        "# Print to check the name of the tracker\n",
        "print(tracker)"
      ],
      "execution_count": 6,
      "outputs": [
        {
          "output_type": "stream",
          "text": [
            "<TrackerGOTURN 0x7f045f04f6b0>\n"
          ],
          "name": "stdout"
        }
      ]
    },
    {
      "cell_type": "code",
      "metadata": {
        "id": "9XQaW4W2fcjq",
        "outputId": "72058c34-e4df-4b19-ad53-5f32a3685b15",
        "colab": {
          "base_uri": "https://localhost:8080/"
        }
      },
      "source": [
        "# The first frame of the file\n",
        "frame_name = \"1.jpg\"\n",
        "frame_number = 1\n",
        "# All the files have 12 digits in them so the rest of the spots are filled with \n",
        "# zeros. To see the file structure check the colab files section.\n",
        "frame_name = frame_name.rjust(12,\"0\")\n",
        "# Copy the first frame to the location where we can access the image from inside\n",
        "# of HTML because the root of the localhost is located in the folder \n",
        "# /usr/local/share/jupyter\n",
        "os.system(\"cp {0}/{1} /usr/local/share/jupyter/nbextensions/{1}\".format(track_video,frame_name))"
      ],
      "execution_count": 7,
      "outputs": [
        {
          "output_type": "execute_result",
          "data": {
            "text/plain": [
              "0"
            ]
          },
          "metadata": {
            "tags": []
          },
          "execution_count": 7
        }
      ]
    },
    {
      "cell_type": "code",
      "metadata": {
        "id": "fNN_fQnSCxfY"
      },
      "source": [
        "html_canvas = \"\"\"\n",
        "<!--\n",
        "Create the canvas to display the image to mark the bounding box. \n",
        "-->\n",
        "<canvas id=\"canvas\"></canvas>\n",
        "<!--\n",
        "Button used to send the bounding box coordinates  \n",
        "-->\n",
        "<button id=\"capture\">Capture</button>\n",
        "<script>\n",
        "<!--\n",
        "//Canvas to draw the bounding box on \n",
        "-->\n",
        "var canvas = document.getElementById('canvas');\n",
        "<!--\n",
        "//Width of the image \n",
        "-->\n",
        "var width = %d;\n",
        "<!--\n",
        "//Height of the image \n",
        "-->\n",
        "var height = %d;\n",
        "<!--\n",
        "//Set canvas width to the width of the image \n",
        "-->\n",
        "canvas.style.width = width+'px';\n",
        "<!--\n",
        "//Set canvas height to the height of the image \n",
        "-->\n",
        "canvas.style.height = height+'px';\n",
        "<!--\n",
        "//Get context of the canvas used to draw on the images\n",
        "-->\n",
        "var ctx = canvas.getContext('2d');\n",
        "<!--\n",
        "//Set context width and height according to image width and height\n",
        "-->\n",
        "ctx.canvas.width = width;\n",
        "ctx.canvas.height = height;\n",
        "<!--\n",
        "//Load the image onto a image class to draw it on a canvas\n",
        "-->\n",
        "var base_image = new Image();\n",
        "base_image.src = '%s';\n",
        "base_image.width = width+'px';\n",
        "base_image.height = height+'px';\n",
        "base_image.onload = function(){\n",
        "  ctx.drawImage(base_image,0,0,width,height);\n",
        "}\n",
        "<!--\n",
        "//Call the function that keeps track of the mouse events and draws bounding boxes\n",
        "-->\n",
        "initDraw(canvas,ctx);\n",
        "<!--\n",
        "//Global variables used to send the coordinates that will be set in inside the function \n",
        "//initDraw(canvas,ctx)\n",
        "-->\n",
        "var x,y,width,height;\n",
        "function initDraw(canvas,ctx) {\n",
        "    <!--\n",
        "    //function used to set the mouse position according to current position\n",
        "    -->\n",
        "    function setMousePosition(e) {\n",
        "        var ev = e || window.event; //Moz || IE\n",
        "        if (ev.pageX) { //Moz\n",
        "            mouse.x = ev.pageX + window.pageXOffset;\n",
        "            mouse.y = ev.pageY + window.pageYOffset;\n",
        "        } else if (ev.clientX) { //IE\n",
        "            mouse.x = ev.clientX + document.body.scrollLeft;\n",
        "            mouse.y = ev.clientY + document.body.scrollTop;\n",
        "        }\n",
        "    };\n",
        "    <!--\n",
        "    //Dictionary used to store current x, current y position when the mouse moves\n",
        "    //and also startX and startY to store the left corner point on first click\n",
        "    -->\n",
        "    var mouse = {\n",
        "        x: 0,\n",
        "        y: 0,\n",
        "        startX: 0,\n",
        "        startY: 0\n",
        "    };\n",
        "    <!--\n",
        "    //local left, top, width and height used to keep track of bounding box inside\n",
        "    //of this function\n",
        "    -->\n",
        "    var left=null,top=null,width=0,height=0;\n",
        "    <!--\n",
        "    //Function called when the mouse pointer is moved\n",
        "    -->\n",
        "    canvas.onmousemove = function (e) {\n",
        "        <!--\n",
        "        //set current position to the position of the mouse pointer on screen\n",
        "        -->\n",
        "        setMousePosition(e);\n",
        "        <!--\n",
        "        //check if left is null, if it is then there is no rectangle on the screen\n",
        "        -->\n",
        "        if (left !== null) {\n",
        "            <!--\n",
        "            //This will clear the entire canvas whenever there is already a rectangle \n",
        "            //on the screen because we only need one rectangle on the screen at \n",
        "            //a given time\n",
        "            -->\n",
        "            ctx.clearRect(0,0,canvas.width,canvas.height);\n",
        "            <!--\n",
        "            //After clearing the whole canvas the image will no longer be there\n",
        "            //so draw it again\n",
        "            -->\n",
        "            ctx.drawImage(base_image,0,0,canvas.width,canvas.height);\n",
        "            <!--\n",
        "            //Set width, height, top, left values with respect to the startX\n",
        "            //and startY positions\n",
        "            -->\n",
        "            width = Math.abs(mouse.x - mouse.startX);\n",
        "            height = Math.abs(mouse.y - mouse.startY);\n",
        "            left = (mouse.x - mouse.startX < 0) ? mouse.x : mouse.startX;\n",
        "            top = (mouse.y - mouse.startY < 0) ? mouse.y : mouse.startY;\n",
        "            <!--\n",
        "            //Init function before drawing on canvas\n",
        "            -->\n",
        "            ctx.beginPath();\n",
        "            <!--\n",
        "            //Set the width of the line, strokecolor as per the user input\n",
        "            -->\n",
        "            ctx.lineWidth = \"%d\";\n",
        "            ctx.strokeStyle = \"%s\";\n",
        "            ctx.strokeRect(left, top, width, height);\n",
        "            <!--\n",
        "            //console.log(left,top,width,height);\n",
        "            -->\n",
        "            ctx.stroke();\n",
        "        }\n",
        "    }\n",
        "    <!--\n",
        "    // Invoke onclick function when clicked on canvas \n",
        "    -->\n",
        "    canvas.onclick = function (e) {\n",
        "      <!--\n",
        "      // if left is null that means the rectangle is not there and you create\n",
        "      // a new one by assigning startX and startY else assign coordinate values\n",
        "      // of the rectangle according to current position of the mouse pointer\n",
        "      -->\n",
        "        if (left !== null) {\n",
        "            window.x = left;\n",
        "            window.y = top;\n",
        "            window.width = width;\n",
        "            window.height = height;\n",
        "            left = null;\n",
        "            canvas.style.cursor = \"default\";\n",
        "            console.log(\"finsihed.\");\n",
        "        } else {\n",
        "            console.log(\"begun.\");\n",
        "            mouse.startX = mouse.x;\n",
        "            mouse.startY = mouse.y;\n",
        "            left = mouse.x;\n",
        "            top = mouse.y;\n",
        "            canvas.style.cursor = \"crosshair\";\n",
        "        }\n",
        "    }\n",
        "    \n",
        "    \n",
        "}\n",
        "<!--\n",
        "//Get the button from the document and send the coordinates to python using\n",
        "//promise when the button is clicked\n",
        "-->\n",
        "var button = document.getElementById('capture');\n",
        "var data = new Promise(resolve=>{\n",
        "  button.onclick = ()=>{\n",
        "    resolve([x,y,width,height]);\n",
        "  }\n",
        "});\n",
        "</script>\n",
        "\"\"\"\n",
        "\n",
        "# Fuction used to create the html page in the cell and receive whatever data will\n",
        "# be sent from the variable data in the javascript code above\n",
        "# Return: tuple of (x, y, width, height) bounding box\n",
        "def selectROI(filename='1.jpg', w=400, h=200, line_width=3,color=\"yellow\"):\n",
        "  display(HTML(html_canvas%(w,h,'/nbextensions/{}'.format(filename),line_width,color)))\n",
        "  data = eval_js(\"data\")\n",
        "  return tuple(data)"
      ],
      "execution_count": 8,
      "outputs": []
    },
    {
      "cell_type": "code",
      "metadata": {
        "id": "h7YPRs1_EkXq",
        "outputId": "26fdd1dd-4553-43de-df8a-a3d221114961",
        "colab": {
          "resources": {
            "http://localhost:8080/nbextensions/00000001.jpg": {
              "data": "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",
              "ok": true,
              "headers": [
                [
                  "content-type",
                  "image/jpeg"
                ]
              ],
              "status": 200,
              "status_text": ""
            }
          },
          "base_uri": "https://localhost:8080/",
          "height": 851
        }
      },
      "source": [
        "# read the image to find the width and height \n",
        "frame = cv2.imread(\"{}/\".format(track_video)+frame_name)\n",
        "print(frame.shape)\n",
        "# get the bounding box\n",
        "bbox = selectROI(frame_name,frame.shape[1],frame.shape[0],3,\"yellow\")"
      ],
      "execution_count": null,
      "outputs": [
        {
          "output_type": "stream",
          "text": [
            "(810, 480, 3)\n"
          ],
          "name": "stdout"
        },
        {
          "output_type": "display_data",
          "data": {
            "text/html": [
              "\n",
              "<!--\n",
              "Create the canvas to display the image to mark the bounding box. \n",
              "-->\n",
              "<canvas id=\"canvas\"></canvas>\n",
              "<!--\n",
              "Button used to send the bounding box coordinates  \n",
              "-->\n",
              "<button id=\"capture\">Capture</button>\n",
              "<script>\n",
              "<!--\n",
              "//Canvas to draw the bounding box on \n",
              "-->\n",
              "var canvas = document.getElementById('canvas');\n",
              "<!--\n",
              "//Width of the image \n",
              "-->\n",
              "var width = 480;\n",
              "<!--\n",
              "//Height of the image \n",
              "-->\n",
              "var height = 810;\n",
              "<!--\n",
              "//Set canvas width to the width of the image \n",
              "-->\n",
              "canvas.style.width = width+'px';\n",
              "<!--\n",
              "//Set canvas height to the height of the image \n",
              "-->\n",
              "canvas.style.height = height+'px';\n",
              "<!--\n",
              "//Get context of the canvas used to draw on the images\n",
              "-->\n",
              "var ctx = canvas.getContext('2d');\n",
              "<!--\n",
              "//Set context width and height according to image width and height\n",
              "-->\n",
              "ctx.canvas.width = width;\n",
              "ctx.canvas.height = height;\n",
              "<!--\n",
              "//Load the image onto a image class to draw it on a canvas\n",
              "-->\n",
              "var base_image = new Image();\n",
              "base_image.src = '/nbextensions/00000001.jpg';\n",
              "base_image.width = width+'px';\n",
              "base_image.height = height+'px';\n",
              "base_image.onload = function(){\n",
              "  ctx.drawImage(base_image,0,0,width,height);\n",
              "}\n",
              "<!--\n",
              "//Call the function that keeps track of the mouse events and draws bounding boxes\n",
              "-->\n",
              "initDraw(canvas,ctx);\n",
              "<!--\n",
              "//Global variables used to send the coordinates that will be set in inside the function \n",
              "//initDraw(canvas,ctx)\n",
              "-->\n",
              "var x,y,width,height;\n",
              "function initDraw(canvas,ctx) {\n",
              "    <!--\n",
              "    //function used to set the mouse position according to current position\n",
              "    -->\n",
              "    function setMousePosition(e) {\n",
              "        var ev = e || window.event; //Moz || IE\n",
              "        if (ev.pageX) { //Moz\n",
              "            mouse.x = ev.pageX + window.pageXOffset;\n",
              "            mouse.y = ev.pageY + window.pageYOffset;\n",
              "        } else if (ev.clientX) { //IE\n",
              "            mouse.x = ev.clientX + document.body.scrollLeft;\n",
              "            mouse.y = ev.clientY + document.body.scrollTop;\n",
              "        }\n",
              "    };\n",
              "    <!--\n",
              "    //Dictionary used to store current x, current y position when the mouse moves\n",
              "    //and also startX and startY to store the left corner point on first click\n",
              "    -->\n",
              "    var mouse = {\n",
              "        x: 0,\n",
              "        y: 0,\n",
              "        startX: 0,\n",
              "        startY: 0\n",
              "    };\n",
              "    <!--\n",
              "    //local left, top, width and height used to keep track of bounding box inside\n",
              "    //of this function\n",
              "    -->\n",
              "    var left=null,top=null,width=0,height=0;\n",
              "    <!--\n",
              "    //Function called when the mouse pointer is moved\n",
              "    -->\n",
              "    canvas.onmousemove = function (e) {\n",
              "        <!--\n",
              "        //set current position to the position of the mouse pointer on screen\n",
              "        -->\n",
              "        setMousePosition(e);\n",
              "        <!--\n",
              "        //check if left is null, if it is then there is no rectangle on the screen\n",
              "        -->\n",
              "        if (left !== null) {\n",
              "            <!--\n",
              "            //This will clear the entire canvas whenever there is already a rectangle \n",
              "            //on the screen because we only need one rectangle on the screen at \n",
              "            //a given time\n",
              "            -->\n",
              "            ctx.clearRect(0,0,canvas.width,canvas.height);\n",
              "            <!--\n",
              "            //After clearing the whole canvas the image will no longer be there\n",
              "            //so draw it again\n",
              "            -->\n",
              "            ctx.drawImage(base_image,0,0,canvas.width,canvas.height);\n",
              "            <!--\n",
              "            //Set width, height, top, left values with respect to the startX\n",
              "            //and startY positions\n",
              "            -->\n",
              "            width = Math.abs(mouse.x - mouse.startX);\n",
              "            height = Math.abs(mouse.y - mouse.startY);\n",
              "            left = (mouse.x - mouse.startX < 0) ? mouse.x : mouse.startX;\n",
              "            top = (mouse.y - mouse.startY < 0) ? mouse.y : mouse.startY;\n",
              "            <!--\n",
              "            //Init function before drawing on canvas\n",
              "            -->\n",
              "            ctx.beginPath();\n",
              "            <!--\n",
              "            //Set the width of the line, strokecolor as per the user input\n",
              "            -->\n",
              "            ctx.lineWidth = \"3\";\n",
              "            ctx.strokeStyle = \"yellow\";\n",
              "            ctx.strokeRect(left, top, width, height);\n",
              "            <!--\n",
              "            //console.log(left,top,width,height);\n",
              "            -->\n",
              "            ctx.stroke();\n",
              "        }\n",
              "    }\n",
              "    <!--\n",
              "    // Invoke onclick function when clicked on canvas \n",
              "    -->\n",
              "    canvas.onclick = function (e) {\n",
              "      <!--\n",
              "      // if left is null that means the rectangle is not there and you create\n",
              "      // a new one by assigning startX and startY else assign coordinate values\n",
              "      // of the rectangle according to current position of the mouse pointer\n",
              "      -->\n",
              "        if (left !== null) {\n",
              "            window.x = left;\n",
              "            window.y = top;\n",
              "            window.width = width;\n",
              "            window.height = height;\n",
              "            left = null;\n",
              "            canvas.style.cursor = \"default\";\n",
              "            console.log(\"finsihed.\");\n",
              "        } else {\n",
              "            console.log(\"begun.\");\n",
              "            mouse.startX = mouse.x;\n",
              "            mouse.startY = mouse.y;\n",
              "            left = mouse.x;\n",
              "            top = mouse.y;\n",
              "            canvas.style.cursor = \"crosshair\";\n",
              "        }\n",
              "    }\n",
              "    \n",
              "    \n",
              "}\n",
              "<!--\n",
              "//Get the button from the document and send the coordinates to python using\n",
              "//promise when the button is clicked\n",
              "-->\n",
              "var button = document.getElementById('capture');\n",
              "var data = new Promise(resolve=>{\n",
              "  button.onclick = ()=>{\n",
              "    resolve([x,y,width,height]);\n",
              "  }\n",
              "});\n",
              "</script>\n"
            ],
            "text/plain": [
              "<IPython.core.display.HTML object>"
            ]
          },
          "metadata": {
            "tags": []
          }
        }
      ]
    },
    {
      "cell_type": "code",
      "metadata": {
        "id": "eYUp7e2xH-Kr"
      },
      "source": [
        "bbox"
      ],
      "execution_count": null,
      "outputs": []
    },
    {
      "cell_type": "code",
      "metadata": {
        "id": "B4q7SFmtIDvL"
      },
      "source": [
        "# Initialize the tracker with the first frame\n",
        "ok = tracker.init(frame,bbox)"
      ],
      "execution_count": null,
      "outputs": []
    },
    {
      "cell_type": "code",
      "metadata": {
        "id": "N2fK1NgOPRP0"
      },
      "source": [
        "print(ok)"
      ],
      "execution_count": null,
      "outputs": []
    },
    {
      "cell_type": "code",
      "metadata": {
        "id": "VfCzX78yycvH"
      },
      "source": [
        "gif = [frame]"
      ],
      "execution_count": null,
      "outputs": []
    },
    {
      "cell_type": "code",
      "metadata": {
        "id": "x2vq96LOKBFN"
      },
      "source": [
        "while True:\n",
        "  # clear_output()\n",
        "  frame_number+=1\n",
        "  frame_name1 = \"{}.jpg\".format(frame_number)\n",
        "  frame_name1 = frame_name1.rjust(12,\"0\")\n",
        "  frame1 = cv2.imread(\"{}/\".format(track_video)+frame_name1)\n",
        "  try:\n",
        "    frame1.size\n",
        "    print(frame_name1)\n",
        "  except:\n",
        "    break\n",
        "  # Start timer\n",
        "  timer = cv2.getTickCount()\n",
        "  # Update the tracker\n",
        "  ok, bbox = tracker.update(frame1)\n",
        "\n",
        "  # Calculate Frames Per Second (FPS) \n",
        "  fps = cv2.getTickFrequency() / (cv2.getTickCount() - timer)\n",
        "\n",
        "  if ok:\n",
        "    # Tracking success\n",
        "    p1 = (int(bbox[0]), int(bbox[1]))\n",
        "    p2 = (int(bbox[0] + bbox[2]), int(bbox[1] + bbox[3]))\n",
        "    cv2.rectangle(frame1, p1, p2, (0,255,255), 3, 1)\n",
        "  else:\n",
        "    # Tracking failure\n",
        "    cv2.putText(frame1, \"Tracking failure detected\", (100,80), cv2.FONT_HERSHEY_SIMPLEX, 0.75,(255,0,0),2)\n",
        "  \n",
        "  # Display tracker type on frame\n",
        "  cv2.putText(frame1, tracker_type + \" Tracker\", (100,20), cv2.FONT_HERSHEY_SIMPLEX, 0.75, (0,0,255),2)\n",
        "  \n",
        "  # Display FPS on frame\n",
        "  cv2.putText(frame1, \"FPS : \" + str(int(fps)), (100,50), cv2.FONT_HERSHEY_SIMPLEX, 0.75, (0,0,255), 2)\n",
        "  gif.append(frame1)\n",
        "  # cv2_imshow(frame)\n"
      ],
      "execution_count": null,
      "outputs": []
    },
    {
      "cell_type": "code",
      "metadata": {
        "id": "-p6CkYV5PdIo"
      },
      "source": [
        "print(type(gif[0]))\n",
        "frame_number"
      ],
      "execution_count": null,
      "outputs": []
    },
    {
      "cell_type": "code",
      "metadata": {
        "id": "qzLARjsKweNX"
      },
      "source": [
        "# Resource: https://stackoverflow.com/questions/44650888/resize-an-image-without-distortion-opencv\n",
        "def image_resize(image, width = None, height = None, inter = cv2.INTER_AREA):\n",
        "    # initialize the dimensions of the image to be resized and\n",
        "    # grab the image size\n",
        "    dim = None\n",
        "    (h, w) = image.shape[:2]\n",
        "\n",
        "    # if both the width and height are None, then return the\n",
        "    # original image\n",
        "    if width is None and height is None:\n",
        "        return image\n",
        "\n",
        "    # check to see if the width is None\n",
        "    if width is None:\n",
        "        # calculate the ratio of the height and construct the\n",
        "        # dimensions\n",
        "        r = height / float(h)\n",
        "        dim = (int(w * r), height)\n",
        "\n",
        "    # otherwise, the height is None\n",
        "    else:\n",
        "        # calculate the ratio of the width and construct the\n",
        "        # dimensions\n",
        "        r = width / float(w)\n",
        "        dim = (width, int(h * r))\n",
        "\n",
        "    # resize the image\n",
        "    resized = cv2.resize(image, dim, interpolation = inter)\n",
        "\n",
        "    # return the resized image\n",
        "    return resized"
      ],
      "execution_count": null,
      "outputs": []
    },
    {
      "cell_type": "code",
      "metadata": {
        "id": "pJ-TWxlk5Ik4"
      },
      "source": [
        "import random\n",
        "random.seed(10)\n",
        "gifs = []\n",
        "images = []# Images, just convert it into PIL.Image obj\n",
        "n = len(gif)\n",
        "ind = set(random.sample(list(range(0,n)),12))\n",
        "cur_image_ind = 0\n",
        "cur_ind = 0\n",
        "imgs = [[] for _ in range(3)]\n",
        "# Go through each image and convert them to Image object from numpy array\n",
        "for image in gif:\n",
        "  gifs.append(Image.fromarray(cv2.cvtColor(image, cv2.COLOR_BGR2RGB).astype(np.uint8)))\n",
        "  if cur_image_ind in ind:\n",
        "    imgs[cur_ind%3].append(image_resize(image,200))\n",
        "    cur_ind+=1\n",
        "  cur_image_ind+=1\n",
        "# Convert all the elements of gifs of type Image to a gif\n",
        "gifs[0].save('temp_result.gif', save_all=True,optimize=True, append_images=gifs[1:], loop=0)"
      ],
      "execution_count": null,
      "outputs": []
    },
    {
      "cell_type": "code",
      "metadata": {
        "id": "vBQEIu53xVyT"
      },
      "source": [
        "for i in range(3):\n",
        "  imgs[i] = np.hstack(imgs[i])\n",
        "v_stack = np.vstack(imgs)\n"
      ],
      "execution_count": null,
      "outputs": []
    },
    {
      "cell_type": "code",
      "metadata": {
        "id": "jIqFOODhxpCe"
      },
      "source": [
        "cv2_imshow(v_stack)"
      ],
      "execution_count": null,
      "outputs": []
    },
    {
      "cell_type": "code",
      "metadata": {
        "id": "KQvTRIBD3b3X"
      },
      "source": [
        "# Copy the gif to access it from HTML\n",
        "os.system(\"cp temp_result.gif /usr/local/share/jupyter/nbextensions/temp_result.gif\")"
      ],
      "execution_count": null,
      "outputs": []
    },
    {
      "cell_type": "code",
      "metadata": {
        "id": "uo-e7AmCBuOU"
      },
      "source": [
        "# Display the gif, it will take some time because the GIF is not optimized and\n",
        "# is heavy in terms of size\n",
        "display_html = \"\"\"\n",
        "<img src=\"/nbextensions/temp_result.gif\">\n",
        "\"\"\"\n",
        "display(HTML(display_html))"
      ],
      "execution_count": null,
      "outputs": []
    },
    {
      "cell_type": "code",
      "metadata": {
        "id": "8KrGFqxPcgKR"
      },
      "source": [
        "import cv2\n",
        "cv2.__version__"
      ],
      "execution_count": null,
      "outputs": []
    },
    {
      "cell_type": "code",
      "metadata": {
        "id": "EuWH7rDDWcJ3"
      },
      "source": [
        ""
      ],
      "execution_count": null,
      "outputs": []
    },
    {
      "cell_type": "code",
      "metadata": {
        "id": "PHVwm48DIzjB"
      },
      "source": [
        ""
      ],
      "execution_count": null,
      "outputs": []
    },
    {
      "cell_type": "code",
      "metadata": {
        "id": "CnsSJPoQI4uO"
      },
      "source": [
        ""
      ],
      "execution_count": null,
      "outputs": []
    },
    {
      "cell_type": "code",
      "metadata": {
        "id": "_cAwjzPSKis8"
      },
      "source": [
        ""
      ],
      "execution_count": null,
      "outputs": []
    }
  ]
}